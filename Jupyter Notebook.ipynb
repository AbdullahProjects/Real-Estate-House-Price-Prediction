{
 "cells": [
  {
   "cell_type": "code",
   "execution_count": 1,
   "id": "b3bd2a42",
   "metadata": {},
   "outputs": [],
   "source": [
    "import pandas as pd\n",
    "import numpy as np\n",
    "import matplotlib.pyplot as plt\n",
    "import seaborn as sns"
   ]
  },
  {
   "cell_type": "markdown",
   "id": "872f355b",
   "metadata": {},
   "source": [
    "# Data Preprocessing"
   ]
  },
  {
   "cell_type": "code",
   "execution_count": 2,
   "id": "d4b9ad42",
   "metadata": {},
   "outputs": [
    {
     "data": {
      "text/html": [
       "<div>\n",
       "<style scoped>\n",
       "    .dataframe tbody tr th:only-of-type {\n",
       "        vertical-align: middle;\n",
       "    }\n",
       "\n",
       "    .dataframe tbody tr th {\n",
       "        vertical-align: top;\n",
       "    }\n",
       "\n",
       "    .dataframe thead th {\n",
       "        text-align: right;\n",
       "    }\n",
       "</style>\n",
       "<table border=\"1\" class=\"dataframe\">\n",
       "  <thead>\n",
       "    <tr style=\"text-align: right;\">\n",
       "      <th></th>\n",
       "      <th>area_type</th>\n",
       "      <th>availability</th>\n",
       "      <th>location</th>\n",
       "      <th>size</th>\n",
       "      <th>society</th>\n",
       "      <th>total_sqft</th>\n",
       "      <th>bath</th>\n",
       "      <th>balcony</th>\n",
       "      <th>price</th>\n",
       "    </tr>\n",
       "  </thead>\n",
       "  <tbody>\n",
       "    <tr>\n",
       "      <th>0</th>\n",
       "      <td>Super built-up  Area</td>\n",
       "      <td>19-Dec</td>\n",
       "      <td>Electronic City Phase II</td>\n",
       "      <td>2 BHK</td>\n",
       "      <td>Coomee</td>\n",
       "      <td>1056</td>\n",
       "      <td>2.0</td>\n",
       "      <td>1.0</td>\n",
       "      <td>39.07</td>\n",
       "    </tr>\n",
       "    <tr>\n",
       "      <th>1</th>\n",
       "      <td>Plot  Area</td>\n",
       "      <td>Ready To Move</td>\n",
       "      <td>Chikka Tirupathi</td>\n",
       "      <td>4 Bedroom</td>\n",
       "      <td>Theanmp</td>\n",
       "      <td>2600</td>\n",
       "      <td>5.0</td>\n",
       "      <td>3.0</td>\n",
       "      <td>120.00</td>\n",
       "    </tr>\n",
       "    <tr>\n",
       "      <th>2</th>\n",
       "      <td>Built-up  Area</td>\n",
       "      <td>Ready To Move</td>\n",
       "      <td>Uttarahalli</td>\n",
       "      <td>3 BHK</td>\n",
       "      <td>NaN</td>\n",
       "      <td>1440</td>\n",
       "      <td>2.0</td>\n",
       "      <td>3.0</td>\n",
       "      <td>62.00</td>\n",
       "    </tr>\n",
       "    <tr>\n",
       "      <th>3</th>\n",
       "      <td>Super built-up  Area</td>\n",
       "      <td>Ready To Move</td>\n",
       "      <td>Lingadheeranahalli</td>\n",
       "      <td>3 BHK</td>\n",
       "      <td>Soiewre</td>\n",
       "      <td>1521</td>\n",
       "      <td>3.0</td>\n",
       "      <td>1.0</td>\n",
       "      <td>95.00</td>\n",
       "    </tr>\n",
       "    <tr>\n",
       "      <th>4</th>\n",
       "      <td>Super built-up  Area</td>\n",
       "      <td>Ready To Move</td>\n",
       "      <td>Kothanur</td>\n",
       "      <td>2 BHK</td>\n",
       "      <td>NaN</td>\n",
       "      <td>1200</td>\n",
       "      <td>2.0</td>\n",
       "      <td>1.0</td>\n",
       "      <td>51.00</td>\n",
       "    </tr>\n",
       "  </tbody>\n",
       "</table>\n",
       "</div>"
      ],
      "text/plain": [
       "              area_type   availability                  location       size  \\\n",
       "0  Super built-up  Area         19-Dec  Electronic City Phase II      2 BHK   \n",
       "1            Plot  Area  Ready To Move          Chikka Tirupathi  4 Bedroom   \n",
       "2        Built-up  Area  Ready To Move               Uttarahalli      3 BHK   \n",
       "3  Super built-up  Area  Ready To Move        Lingadheeranahalli      3 BHK   \n",
       "4  Super built-up  Area  Ready To Move                  Kothanur      2 BHK   \n",
       "\n",
       "   society total_sqft  bath  balcony   price  \n",
       "0  Coomee        1056   2.0      1.0   39.07  \n",
       "1  Theanmp       2600   5.0      3.0  120.00  \n",
       "2      NaN       1440   2.0      3.0   62.00  \n",
       "3  Soiewre       1521   3.0      1.0   95.00  \n",
       "4      NaN       1200   2.0      1.0   51.00  "
      ]
     },
     "execution_count": 2,
     "metadata": {},
     "output_type": "execute_result"
    }
   ],
   "source": [
    "df = pd.read_csv(\"bengaluru_house_prices.csv\")\n",
    "df.head(5)"
   ]
  },
  {
   "cell_type": "code",
   "execution_count": 3,
   "id": "1f5aac8a",
   "metadata": {},
   "outputs": [
    {
     "data": {
      "text/plain": [
       "(13320, 9)"
      ]
     },
     "execution_count": 3,
     "metadata": {},
     "output_type": "execute_result"
    }
   ],
   "source": [
    "df.shape"
   ]
  },
  {
   "cell_type": "code",
   "execution_count": 5,
   "id": "3bfc4bde",
   "metadata": {},
   "outputs": [
    {
     "data": {
      "text/plain": [
       "area_type          0\n",
       "availability       0\n",
       "location           1\n",
       "size              16\n",
       "society         5502\n",
       "total_sqft         0\n",
       "bath              73\n",
       "balcony          609\n",
       "price              0\n",
       "dtype: int64"
      ]
     },
     "execution_count": 5,
     "metadata": {},
     "output_type": "execute_result"
    }
   ],
   "source": [
    "df.isnull().sum()"
   ]
  },
  {
   "cell_type": "code",
   "execution_count": 6,
   "id": "e50f6777",
   "metadata": {},
   "outputs": [
    {
     "data": {
      "text/html": [
       "<div>\n",
       "<style scoped>\n",
       "    .dataframe tbody tr th:only-of-type {\n",
       "        vertical-align: middle;\n",
       "    }\n",
       "\n",
       "    .dataframe tbody tr th {\n",
       "        vertical-align: top;\n",
       "    }\n",
       "\n",
       "    .dataframe thead th {\n",
       "        text-align: right;\n",
       "    }\n",
       "</style>\n",
       "<table border=\"1\" class=\"dataframe\">\n",
       "  <thead>\n",
       "    <tr style=\"text-align: right;\">\n",
       "      <th></th>\n",
       "      <th>bath</th>\n",
       "      <th>balcony</th>\n",
       "      <th>price</th>\n",
       "    </tr>\n",
       "  </thead>\n",
       "  <tbody>\n",
       "    <tr>\n",
       "      <th>bath</th>\n",
       "      <td>1.000000</td>\n",
       "      <td>0.204201</td>\n",
       "      <td>0.456345</td>\n",
       "    </tr>\n",
       "    <tr>\n",
       "      <th>balcony</th>\n",
       "      <td>0.204201</td>\n",
       "      <td>1.000000</td>\n",
       "      <td>0.120355</td>\n",
       "    </tr>\n",
       "    <tr>\n",
       "      <th>price</th>\n",
       "      <td>0.456345</td>\n",
       "      <td>0.120355</td>\n",
       "      <td>1.000000</td>\n",
       "    </tr>\n",
       "  </tbody>\n",
       "</table>\n",
       "</div>"
      ],
      "text/plain": [
       "             bath   balcony     price\n",
       "bath     1.000000  0.204201  0.456345\n",
       "balcony  0.204201  1.000000  0.120355\n",
       "price    0.456345  0.120355  1.000000"
      ]
     },
     "execution_count": 6,
     "metadata": {},
     "output_type": "execute_result"
    }
   ],
   "source": [
    "df.select_dtypes([\"int\",\"float\"]).corr()"
   ]
  },
  {
   "cell_type": "code",
   "execution_count": 7,
   "id": "fd981070",
   "metadata": {},
   "outputs": [
    {
     "data": {
      "text/plain": [
       "area_type        object\n",
       "availability     object\n",
       "location         object\n",
       "size             object\n",
       "society          object\n",
       "total_sqft       object\n",
       "bath            float64\n",
       "balcony         float64\n",
       "price           float64\n",
       "dtype: object"
      ]
     },
     "execution_count": 7,
     "metadata": {},
     "output_type": "execute_result"
    }
   ],
   "source": [
    "df.dtypes"
   ]
  },
  {
   "cell_type": "code",
   "execution_count": 8,
   "id": "44d721e3",
   "metadata": {},
   "outputs": [],
   "source": [
    "# drop unnecessary columns\n",
    "df.drop(columns=[\"availability\",\"society\"], inplace=True)"
   ]
  },
  {
   "cell_type": "markdown",
   "id": "5a315f56",
   "metadata": {},
   "source": [
    "#### df2"
   ]
  },
  {
   "cell_type": "code",
   "execution_count": 10,
   "id": "623f8292",
   "metadata": {},
   "outputs": [],
   "source": [
    "df2 = df.copy()"
   ]
  },
  {
   "cell_type": "code",
   "execution_count": 11,
   "id": "b8be7a5b",
   "metadata": {},
   "outputs": [],
   "source": [
    "# transforming total_sqft column to new one\n",
    "import re\n",
    "def total_square_foot(col):\n",
    "    pattern_minus = re.search(r'(\\d+) - (\\d+)', col)\n",
    "    pattern_point = re.search(r'(\\d+)\\.', col)\n",
    "    if pattern_minus:\n",
    "        g1 = int(pattern_minus.group(1))\n",
    "        g2 = int(pattern_minus.group(2))\n",
    "        g3 = (g1+g2)/2\n",
    "        return g3\n",
    "    elif pattern_point:\n",
    "        g1 = int(pattern_point.group(1))\n",
    "        return g1\n",
    "    elif \"Sq. Meter\" in col:\n",
    "        r = col.replace(\"Sq. Meter\",\"\")\n",
    "        sqft = int(r)*10.76\n",
    "        return sqft\n",
    "    elif \"Sq. Yards\" in col:\n",
    "        r = col.replace(\"Sq. Yards\",\"\")\n",
    "        sqft = int(r)*9\n",
    "        return sqft\n",
    "    elif \"Cents\" in col:\n",
    "        r = col.replace(\"Cents\",\"\")\n",
    "        sqft = int(r)*435.6\n",
    "        return sqft\n",
    "    elif \"Guntha\" in col:\n",
    "        r = col.replace(\"Guntha\",\"\")\n",
    "        sqft = int(r)*1089\n",
    "        return sqft\n",
    "    elif \"Grounds\" in col:\n",
    "        r = col.replace(\"Grounds\",\"\")\n",
    "        sqft = int(r)*2400\n",
    "        return sqft\n",
    "    elif \"Acres\" in col:\n",
    "        r = col.replace(\"Acres\",\"\")\n",
    "        sqft = int(r)*43560\n",
    "        return sqft\n",
    "    elif \"Perch\" in col:\n",
    "        r = col.replace(\"Perch\",\"\")\n",
    "        sqft = int(r)*272.25\n",
    "        return sqft\n",
    "    else:\n",
    "        return col\n",
    "\n",
    "df2[\"total_sqft\"] = df2[\"total_sqft\"].apply(total_square_foot)"
   ]
  },
  {
   "cell_type": "code",
   "execution_count": 13,
   "id": "2ca10545",
   "metadata": {},
   "outputs": [],
   "source": [
    "df2[\"total_sqft\"] = df2[\"total_sqft\"].astype(\"int\")\n",
    "df2[\"price\"] = df2[\"price\"].astype(\"int\")"
   ]
  },
  {
   "cell_type": "code",
   "execution_count": 15,
   "id": "ddae1370",
   "metadata": {},
   "outputs": [
    {
     "data": {
      "text/plain": [
       "area_type      object\n",
       "location       object\n",
       "size           object\n",
       "total_sqft      int32\n",
       "bath          float64\n",
       "balcony       float64\n",
       "price           int32\n",
       "dtype: object"
      ]
     },
     "execution_count": 15,
     "metadata": {},
     "output_type": "execute_result"
    }
   ],
   "source": [
    "df2.dtypes"
   ]
  },
  {
   "cell_type": "markdown",
   "id": "0c9dec12",
   "metadata": {},
   "source": [
    "#### df3"
   ]
  },
  {
   "cell_type": "code",
   "execution_count": 16,
   "id": "c7d71f6f",
   "metadata": {},
   "outputs": [],
   "source": [
    "df3 = df2.copy()"
   ]
  },
  {
   "cell_type": "code",
   "execution_count": 24,
   "id": "01299b45",
   "metadata": {},
   "outputs": [],
   "source": [
    "# fill null values\n",
    "df3[\"balcony\"] = df3[\"balcony\"].fillna(df3[\"balcony\"].mode()[0])\n",
    "df3[\"bath\"] = df3[\"bath\"].fillna(df3[\"bath\"].mode()[0])\n",
    "df3[\"size\"] = df3[\"size\"].fillna(df3[\"size\"].mode()[0])\n",
    "df3[\"location\"] = df3[\"location\"].fillna(df3[\"location\"].mode()[0])"
   ]
  },
  {
   "cell_type": "code",
   "execution_count": 25,
   "id": "3c91f572",
   "metadata": {},
   "outputs": [
    {
     "data": {
      "text/plain": [
       "area_type     0\n",
       "location      0\n",
       "size          0\n",
       "total_sqft    0\n",
       "bath          0\n",
       "balcony       0\n",
       "price         0\n",
       "dtype: int64"
      ]
     },
     "execution_count": 25,
     "metadata": {},
     "output_type": "execute_result"
    }
   ],
   "source": [
    "df3.isnull().sum()"
   ]
  },
  {
   "cell_type": "code",
   "execution_count": 26,
   "id": "8f14f720",
   "metadata": {},
   "outputs": [
    {
     "data": {
      "text/html": [
       "<div>\n",
       "<style scoped>\n",
       "    .dataframe tbody tr th:only-of-type {\n",
       "        vertical-align: middle;\n",
       "    }\n",
       "\n",
       "    .dataframe tbody tr th {\n",
       "        vertical-align: top;\n",
       "    }\n",
       "\n",
       "    .dataframe thead th {\n",
       "        text-align: right;\n",
       "    }\n",
       "</style>\n",
       "<table border=\"1\" class=\"dataframe\">\n",
       "  <thead>\n",
       "    <tr style=\"text-align: right;\">\n",
       "      <th></th>\n",
       "      <th>total_sqft</th>\n",
       "      <th>bath</th>\n",
       "      <th>balcony</th>\n",
       "      <th>price</th>\n",
       "    </tr>\n",
       "  </thead>\n",
       "  <tbody>\n",
       "    <tr>\n",
       "      <th>total_sqft</th>\n",
       "      <td>1.000000</td>\n",
       "      <td>0.055338</td>\n",
       "      <td>0.012107</td>\n",
       "      <td>0.049000</td>\n",
       "    </tr>\n",
       "    <tr>\n",
       "      <th>bath</th>\n",
       "      <td>0.055338</td>\n",
       "      <td>1.000000</td>\n",
       "      <td>0.207970</td>\n",
       "      <td>0.454625</td>\n",
       "    </tr>\n",
       "    <tr>\n",
       "      <th>balcony</th>\n",
       "      <td>0.012107</td>\n",
       "      <td>0.207970</td>\n",
       "      <td>1.000000</td>\n",
       "      <td>0.125070</td>\n",
       "    </tr>\n",
       "    <tr>\n",
       "      <th>price</th>\n",
       "      <td>0.049000</td>\n",
       "      <td>0.454625</td>\n",
       "      <td>0.125070</td>\n",
       "      <td>1.000000</td>\n",
       "    </tr>\n",
       "  </tbody>\n",
       "</table>\n",
       "</div>"
      ],
      "text/plain": [
       "            total_sqft      bath   balcony     price\n",
       "total_sqft    1.000000  0.055338  0.012107  0.049000\n",
       "bath          0.055338  1.000000  0.207970  0.454625\n",
       "balcony       0.012107  0.207970  1.000000  0.125070\n",
       "price         0.049000  0.454625  0.125070  1.000000"
      ]
     },
     "execution_count": 26,
     "metadata": {},
     "output_type": "execute_result"
    }
   ],
   "source": [
    "df3.select_dtypes([\"int\",\"float\"]).corr()"
   ]
  },
  {
   "cell_type": "code",
   "execution_count": 27,
   "id": "cfecc52d",
   "metadata": {},
   "outputs": [],
   "source": [
    "# clean size column\n",
    "df3[\"size\"] = df3[\"size\"].apply(lambda x: x.split(\" \")[0])"
   ]
  },
  {
   "cell_type": "code",
   "execution_count": 28,
   "id": "4d1085e3",
   "metadata": {},
   "outputs": [
    {
     "data": {
      "text/html": [
       "<div>\n",
       "<style scoped>\n",
       "    .dataframe tbody tr th:only-of-type {\n",
       "        vertical-align: middle;\n",
       "    }\n",
       "\n",
       "    .dataframe tbody tr th {\n",
       "        vertical-align: top;\n",
       "    }\n",
       "\n",
       "    .dataframe thead th {\n",
       "        text-align: right;\n",
       "    }\n",
       "</style>\n",
       "<table border=\"1\" class=\"dataframe\">\n",
       "  <thead>\n",
       "    <tr style=\"text-align: right;\">\n",
       "      <th></th>\n",
       "      <th>area_type</th>\n",
       "      <th>location</th>\n",
       "      <th>size</th>\n",
       "      <th>total_sqft</th>\n",
       "      <th>bath</th>\n",
       "      <th>balcony</th>\n",
       "      <th>price</th>\n",
       "    </tr>\n",
       "  </thead>\n",
       "  <tbody>\n",
       "    <tr>\n",
       "      <th>0</th>\n",
       "      <td>Super built-up  Area</td>\n",
       "      <td>Electronic City Phase II</td>\n",
       "      <td>2</td>\n",
       "      <td>1056</td>\n",
       "      <td>2.0</td>\n",
       "      <td>1.0</td>\n",
       "      <td>39</td>\n",
       "    </tr>\n",
       "    <tr>\n",
       "      <th>1</th>\n",
       "      <td>Plot  Area</td>\n",
       "      <td>Chikka Tirupathi</td>\n",
       "      <td>4</td>\n",
       "      <td>2600</td>\n",
       "      <td>5.0</td>\n",
       "      <td>3.0</td>\n",
       "      <td>120</td>\n",
       "    </tr>\n",
       "    <tr>\n",
       "      <th>2</th>\n",
       "      <td>Built-up  Area</td>\n",
       "      <td>Uttarahalli</td>\n",
       "      <td>3</td>\n",
       "      <td>1440</td>\n",
       "      <td>2.0</td>\n",
       "      <td>3.0</td>\n",
       "      <td>62</td>\n",
       "    </tr>\n",
       "    <tr>\n",
       "      <th>3</th>\n",
       "      <td>Super built-up  Area</td>\n",
       "      <td>Lingadheeranahalli</td>\n",
       "      <td>3</td>\n",
       "      <td>1521</td>\n",
       "      <td>3.0</td>\n",
       "      <td>1.0</td>\n",
       "      <td>95</td>\n",
       "    </tr>\n",
       "    <tr>\n",
       "      <th>4</th>\n",
       "      <td>Super built-up  Area</td>\n",
       "      <td>Kothanur</td>\n",
       "      <td>2</td>\n",
       "      <td>1200</td>\n",
       "      <td>2.0</td>\n",
       "      <td>1.0</td>\n",
       "      <td>51</td>\n",
       "    </tr>\n",
       "  </tbody>\n",
       "</table>\n",
       "</div>"
      ],
      "text/plain": [
       "              area_type                  location size  total_sqft  bath  \\\n",
       "0  Super built-up  Area  Electronic City Phase II    2        1056   2.0   \n",
       "1            Plot  Area          Chikka Tirupathi    4        2600   5.0   \n",
       "2        Built-up  Area               Uttarahalli    3        1440   2.0   \n",
       "3  Super built-up  Area        Lingadheeranahalli    3        1521   3.0   \n",
       "4  Super built-up  Area                  Kothanur    2        1200   2.0   \n",
       "\n",
       "   balcony  price  \n",
       "0      1.0     39  \n",
       "1      3.0    120  \n",
       "2      3.0     62  \n",
       "3      1.0     95  \n",
       "4      1.0     51  "
      ]
     },
     "execution_count": 28,
     "metadata": {},
     "output_type": "execute_result"
    }
   ],
   "source": [
    "df3.head(5)"
   ]
  },
  {
   "cell_type": "code",
   "execution_count": 29,
   "id": "5488e030",
   "metadata": {},
   "outputs": [],
   "source": [
    "df3['size'] = df3['size'].astype(\"int\")"
   ]
  },
  {
   "cell_type": "markdown",
   "id": "be5341ea",
   "metadata": {},
   "source": [
    "#### df4"
   ]
  },
  {
   "cell_type": "code",
   "execution_count": 30,
   "id": "6b16b1da",
   "metadata": {},
   "outputs": [],
   "source": [
    "df4 = df3.copy()"
   ]
  },
  {
   "cell_type": "code",
   "execution_count": 31,
   "id": "3933f845",
   "metadata": {},
   "outputs": [],
   "source": [
    "# remove additional spaces\n",
    "df4[\"location\"] = df4[\"location\"].apply(lambda x:x.strip())"
   ]
  },
  {
   "cell_type": "markdown",
   "id": "252b8588",
   "metadata": {},
   "source": [
    "### Select main locations from 1294 different locations"
   ]
  },
  {
   "cell_type": "code",
   "execution_count": 32,
   "id": "7b35efbe",
   "metadata": {},
   "outputs": [
    {
     "data": {
      "text/plain": [
       "location\n",
       "Whitefield               542\n",
       "Sarjapur  Road           399\n",
       "Electronic City          304\n",
       "Kanakpura Road           273\n",
       "Thanisandra              237\n",
       "                        ... \n",
       "1 Giri Nagar               1\n",
       "Kanakapura Road,           1\n",
       "Kanakapura main  Road      1\n",
       "Karnataka Shabarimala      1\n",
       "whitefiled                 1\n",
       "Name: location, Length: 1294, dtype: int64"
      ]
     },
     "execution_count": 32,
     "metadata": {},
     "output_type": "execute_result"
    }
   ],
   "source": [
    "location = df4.groupby(\"location\")[\"location\"].agg(\"count\").sort_values(ascending=False)\n",
    "location"
   ]
  },
  {
   "cell_type": "code",
   "execution_count": 33,
   "id": "71ca3c94",
   "metadata": {},
   "outputs": [
    {
     "data": {
      "text/plain": [
       "1294"
      ]
     },
     "execution_count": 33,
     "metadata": {},
     "output_type": "execute_result"
    }
   ],
   "source": [
    "len(location)"
   ]
  },
  {
   "cell_type": "code",
   "execution_count": 37,
   "id": "f9504a89",
   "metadata": {},
   "outputs": [
    {
     "data": {
      "text/plain": [
       "1194"
      ]
     },
     "execution_count": 37,
     "metadata": {},
     "output_type": "execute_result"
    }
   ],
   "source": [
    "len(location[location<30])"
   ]
  },
  {
   "cell_type": "code",
   "execution_count": 38,
   "id": "dfbb1750",
   "metadata": {},
   "outputs": [
    {
     "data": {
      "text/plain": [
       "location\n",
       "Kumaraswami Layout       30\n",
       "Ananth Nagar             30\n",
       "Chikkalasandra           30\n",
       "Doddathoguru             30\n",
       "Dodda Nekkundi           29\n",
       "                         ..\n",
       "1 Giri Nagar              1\n",
       "Kanakapura Road,          1\n",
       "Kanakapura main  Road     1\n",
       "Karnataka Shabarimala     1\n",
       "whitefiled                1\n",
       "Name: location, Length: 1198, dtype: int64"
      ]
     },
     "execution_count": 38,
     "metadata": {},
     "output_type": "execute_result"
    }
   ],
   "source": [
    "location_less10 = location[location<=30]\n",
    "location_less10"
   ]
  },
  {
   "cell_type": "code",
   "execution_count": 39,
   "id": "7d3c44cd",
   "metadata": {},
   "outputs": [],
   "source": [
    "df4[\"location\"] = df4[\"location\"].apply(lambda x: \"other\" if x in location_less10 else x)"
   ]
  },
  {
   "cell_type": "code",
   "execution_count": 40,
   "id": "4c55f1aa",
   "metadata": {},
   "outputs": [
    {
     "data": {
      "text/plain": [
       "97"
      ]
     },
     "execution_count": 40,
     "metadata": {},
     "output_type": "execute_result"
    }
   ],
   "source": [
    "len(df4[\"location\"].unique())"
   ]
  },
  {
   "cell_type": "code",
   "execution_count": 41,
   "id": "37d68db5",
   "metadata": {},
   "outputs": [
    {
     "data": {
      "text/html": [
       "<div>\n",
       "<style scoped>\n",
       "    .dataframe tbody tr th:only-of-type {\n",
       "        vertical-align: middle;\n",
       "    }\n",
       "\n",
       "    .dataframe tbody tr th {\n",
       "        vertical-align: top;\n",
       "    }\n",
       "\n",
       "    .dataframe thead th {\n",
       "        text-align: right;\n",
       "    }\n",
       "</style>\n",
       "<table border=\"1\" class=\"dataframe\">\n",
       "  <thead>\n",
       "    <tr style=\"text-align: right;\">\n",
       "      <th></th>\n",
       "      <th>area_type</th>\n",
       "      <th>location</th>\n",
       "      <th>size</th>\n",
       "      <th>total_sqft</th>\n",
       "      <th>bath</th>\n",
       "      <th>balcony</th>\n",
       "      <th>price</th>\n",
       "    </tr>\n",
       "  </thead>\n",
       "  <tbody>\n",
       "    <tr>\n",
       "      <th>0</th>\n",
       "      <td>Super built-up  Area</td>\n",
       "      <td>Electronic City Phase II</td>\n",
       "      <td>2</td>\n",
       "      <td>1056</td>\n",
       "      <td>2.0</td>\n",
       "      <td>1.0</td>\n",
       "      <td>39</td>\n",
       "    </tr>\n",
       "    <tr>\n",
       "      <th>1</th>\n",
       "      <td>Plot  Area</td>\n",
       "      <td>other</td>\n",
       "      <td>4</td>\n",
       "      <td>2600</td>\n",
       "      <td>5.0</td>\n",
       "      <td>3.0</td>\n",
       "      <td>120</td>\n",
       "    </tr>\n",
       "    <tr>\n",
       "      <th>2</th>\n",
       "      <td>Built-up  Area</td>\n",
       "      <td>Uttarahalli</td>\n",
       "      <td>3</td>\n",
       "      <td>1440</td>\n",
       "      <td>2.0</td>\n",
       "      <td>3.0</td>\n",
       "      <td>62</td>\n",
       "    </tr>\n",
       "    <tr>\n",
       "      <th>3</th>\n",
       "      <td>Super built-up  Area</td>\n",
       "      <td>other</td>\n",
       "      <td>3</td>\n",
       "      <td>1521</td>\n",
       "      <td>3.0</td>\n",
       "      <td>1.0</td>\n",
       "      <td>95</td>\n",
       "    </tr>\n",
       "    <tr>\n",
       "      <th>4</th>\n",
       "      <td>Super built-up  Area</td>\n",
       "      <td>Kothanur</td>\n",
       "      <td>2</td>\n",
       "      <td>1200</td>\n",
       "      <td>2.0</td>\n",
       "      <td>1.0</td>\n",
       "      <td>51</td>\n",
       "    </tr>\n",
       "  </tbody>\n",
       "</table>\n",
       "</div>"
      ],
      "text/plain": [
       "              area_type                  location  size  total_sqft  bath  \\\n",
       "0  Super built-up  Area  Electronic City Phase II     2        1056   2.0   \n",
       "1            Plot  Area                     other     4        2600   5.0   \n",
       "2        Built-up  Area               Uttarahalli     3        1440   2.0   \n",
       "3  Super built-up  Area                     other     3        1521   3.0   \n",
       "4  Super built-up  Area                  Kothanur     2        1200   2.0   \n",
       "\n",
       "   balcony  price  \n",
       "0      1.0     39  \n",
       "1      3.0    120  \n",
       "2      3.0     62  \n",
       "3      1.0     95  \n",
       "4      1.0     51  "
      ]
     },
     "execution_count": 41,
     "metadata": {},
     "output_type": "execute_result"
    }
   ],
   "source": [
    "df4.head(5)"
   ]
  },
  {
   "cell_type": "code",
   "execution_count": 42,
   "id": "4e49c07c",
   "metadata": {},
   "outputs": [
    {
     "data": {
      "text/plain": [
       "area_type      object\n",
       "location       object\n",
       "size            int32\n",
       "total_sqft      int32\n",
       "bath          float64\n",
       "balcony       float64\n",
       "price           int32\n",
       "dtype: object"
      ]
     },
     "execution_count": 42,
     "metadata": {},
     "output_type": "execute_result"
    }
   ],
   "source": [
    "df4.dtypes"
   ]
  },
  {
   "cell_type": "code",
   "execution_count": 43,
   "id": "6917abc3",
   "metadata": {},
   "outputs": [],
   "source": [
    "df4[\"bath\"] = df4[\"bath\"].astype(\"int\")\n",
    "df4[\"balcony\"] = df4[\"balcony\"].astype(\"int\")"
   ]
  },
  {
   "cell_type": "markdown",
   "id": "3fc89ed8",
   "metadata": {},
   "source": [
    "# Distribution Visualization"
   ]
  },
  {
   "cell_type": "code",
   "execution_count": 48,
   "id": "1a7d906a",
   "metadata": {},
   "outputs": [
    {
     "data": {
      "text/plain": [
       "Text(0.5, 1.0, 'Price Distribution')"
      ]
     },
     "execution_count": 48,
     "metadata": {},
     "output_type": "execute_result"
    },
    {
     "data": {
      "image/png": "[encoded data removed]",
      "text/plain": [
       "<Figure size 1200x1500 with 4 Axes>"
      ]
     },
     "metadata": {},
     "output_type": "display_data"
    }
   ],
   "source": [
    "# Check distribution of data\n",
    "fig, axes = plt.subplots(ncols=2, nrows=2, figsize=(12,15))\n",
    "\n",
    "sns.histplot(x=df4[\"size\"], kde=True, ax=axes[0,0])\n",
    "axes[0,0].set_title(\"Size Distribution\")\n",
    "\n",
    "sns.histplot(x=df4[\"bath\"], kde=True, ax=axes[0,1])\n",
    "axes[0,1].set_title(\"Bath Distribution\")\n",
    "\n",
    "sns.histplot(x=df4[\"balcony\"], kde=True, ax=axes[1,0])\n",
    "axes[1,0].set_title(\"Balcony Distribution\")\n",
    "\n",
    "sns.histplot(x=df4[\"price\"], kde=True, ax=axes[1,1])\n",
    "axes[1,1].set_title(\"Price Distribution\")"
   ]
  },
  {
   "cell_type": "markdown",
   "id": "16a284e1",
   "metadata": {},
   "source": [
    "# BoxPlot Visualization"
   ]
  },
  {
   "cell_type": "code",
   "execution_count": 49,
   "id": "4837f5a2",
   "metadata": {},
   "outputs": [
    {
     "data": {
      "text/plain": [
       "Text(0.5, 1.0, 'Price Boxplot')"
      ]
     },
     "execution_count": 49,
     "metadata": {},
     "output_type": "execute_result"
    },
    {
     "data": {
      "image/png": "[encoded data removed]",
      "text/plain": [
       "<Figure size 1200x1600 with 4 Axes>"
      ]
     },
     "metadata": {},
     "output_type": "display_data"
    }
   ],
   "source": [
    "# Check distribution of data\n",
    "fig, axes = plt.subplots(ncols=2, nrows=2, figsize=(12,16))\n",
    "\n",
    "sns.boxplot(x=df4[\"size\"], ax=axes[0,0])\n",
    "axes[0,0].set_title(\"Size Boxplot\")\n",
    "\n",
    "sns.boxplot(x=df4[\"bath\"], ax=axes[0,1])\n",
    "axes[0,1].set_title(\"Bath Boxplot\")\n",
    "\n",
    "sns.boxplot(x=df4[\"balcony\"], ax=axes[1,0])\n",
    "axes[1,0].set_title(\"Balcony Boxplot\")\n",
    "\n",
    "sns.boxplot(x=df4[\"price\"], ax=axes[1,1])\n",
    "axes[1,1].set_title(\"Price Boxplot\")"
   ]
  },
  {
   "cell_type": "markdown",
   "id": "96d7e72b",
   "metadata": {},
   "source": [
    "#### df5"
   ]
  },
  {
   "cell_type": "code",
   "execution_count": 91,
   "id": "c2e8937b",
   "metadata": {},
   "outputs": [],
   "source": [
    "df5 = df4.copy()"
   ]
  },
  {
   "cell_type": "code",
   "execution_count": 92,
   "id": "3143c45b",
   "metadata": {},
   "outputs": [
    {
     "data": {
      "text/html": [
       "<div>\n",
       "<style scoped>\n",
       "    .dataframe tbody tr th:only-of-type {\n",
       "        vertical-align: middle;\n",
       "    }\n",
       "\n",
       "    .dataframe tbody tr th {\n",
       "        vertical-align: top;\n",
       "    }\n",
       "\n",
       "    .dataframe thead th {\n",
       "        text-align: right;\n",
       "    }\n",
       "</style>\n",
       "<table border=\"1\" class=\"dataframe\">\n",
       "  <thead>\n",
       "    <tr style=\"text-align: right;\">\n",
       "      <th></th>\n",
       "      <th>area_type</th>\n",
       "      <th>location</th>\n",
       "      <th>size</th>\n",
       "      <th>total_sqft</th>\n",
       "      <th>bath</th>\n",
       "      <th>balcony</th>\n",
       "      <th>price</th>\n",
       "    </tr>\n",
       "  </thead>\n",
       "  <tbody>\n",
       "    <tr>\n",
       "      <th>0</th>\n",
       "      <td>Super built-up  Area</td>\n",
       "      <td>Electronic City Phase II</td>\n",
       "      <td>2</td>\n",
       "      <td>1056</td>\n",
       "      <td>2</td>\n",
       "      <td>1</td>\n",
       "      <td>39</td>\n",
       "    </tr>\n",
       "    <tr>\n",
       "      <th>1</th>\n",
       "      <td>Plot  Area</td>\n",
       "      <td>other</td>\n",
       "      <td>4</td>\n",
       "      <td>2600</td>\n",
       "      <td>5</td>\n",
       "      <td>3</td>\n",
       "      <td>120</td>\n",
       "    </tr>\n",
       "    <tr>\n",
       "      <th>2</th>\n",
       "      <td>Built-up  Area</td>\n",
       "      <td>Uttarahalli</td>\n",
       "      <td>3</td>\n",
       "      <td>1440</td>\n",
       "      <td>2</td>\n",
       "      <td>3</td>\n",
       "      <td>62</td>\n",
       "    </tr>\n",
       "    <tr>\n",
       "      <th>3</th>\n",
       "      <td>Super built-up  Area</td>\n",
       "      <td>other</td>\n",
       "      <td>3</td>\n",
       "      <td>1521</td>\n",
       "      <td>3</td>\n",
       "      <td>1</td>\n",
       "      <td>95</td>\n",
       "    </tr>\n",
       "    <tr>\n",
       "      <th>4</th>\n",
       "      <td>Super built-up  Area</td>\n",
       "      <td>Kothanur</td>\n",
       "      <td>2</td>\n",
       "      <td>1200</td>\n",
       "      <td>2</td>\n",
       "      <td>1</td>\n",
       "      <td>51</td>\n",
       "    </tr>\n",
       "  </tbody>\n",
       "</table>\n",
       "</div>"
      ],
      "text/plain": [
       "              area_type                  location  size  total_sqft  bath  \\\n",
       "0  Super built-up  Area  Electronic City Phase II     2        1056     2   \n",
       "1            Plot  Area                     other     4        2600     5   \n",
       "2        Built-up  Area               Uttarahalli     3        1440     2   \n",
       "3  Super built-up  Area                     other     3        1521     3   \n",
       "4  Super built-up  Area                  Kothanur     2        1200     2   \n",
       "\n",
       "   balcony  price  \n",
       "0        1     39  \n",
       "1        3    120  \n",
       "2        3     62  \n",
       "3        1     95  \n",
       "4        1     51  "
      ]
     },
     "execution_count": 92,
     "metadata": {},
     "output_type": "execute_result"
    }
   ],
   "source": [
    "df5.head(5)"
   ]
  },
  {
   "cell_type": "code",
   "execution_count": 93,
   "id": "ef6c9719",
   "metadata": {},
   "outputs": [
    {
     "data": {
      "text/plain": [
       "(13320, 7)"
      ]
     },
     "execution_count": 93,
     "metadata": {},
     "output_type": "execute_result"
    }
   ],
   "source": [
    "df5.shape"
   ]
  },
  {
   "cell_type": "code",
   "execution_count": 94,
   "id": "54267369",
   "metadata": {},
   "outputs": [
    {
     "data": {
      "text/plain": [
       "<Axes: xlabel='price', ylabel='total_sqft'>"
      ]
     },
     "execution_count": 94,
     "metadata": {},
     "output_type": "execute_result"
    },
    {
     "data": {
      "image/png": "[encoded data removed]",
      "text/plain": [
       "<Figure size 1000x500 with 1 Axes>"
      ]
     },
     "metadata": {},
     "output_type": "display_data"
    }
   ],
   "source": [
    "plt.figure(figsize=(10,5))\n",
    "sns.scatterplot(x=df5[\"price\"], y=df5[\"total_sqft\"])"
   ]
  },
  {
   "cell_type": "markdown",
   "id": "81f5eef9",
   "metadata": {},
   "source": [
    "### Selecting the columns that contain 300> square feet area for 1 bedroom"
   ]
  },
  {
   "cell_type": "code",
   "execution_count": 95,
   "id": "c024a7b3",
   "metadata": {},
   "outputs": [],
   "source": [
    "df5_n = df5[~(df5[\"total_sqft\"]/df5[\"size\"]<300)]"
   ]
  },
  {
   "cell_type": "code",
   "execution_count": 96,
   "id": "7d093614",
   "metadata": {},
   "outputs": [
    {
     "data": {
      "text/plain": [
       "(12555, 7)"
      ]
     },
     "execution_count": 96,
     "metadata": {},
     "output_type": "execute_result"
    }
   ],
   "source": [
    "df5_n.shape"
   ]
  },
  {
   "cell_type": "code",
   "execution_count": 97,
   "id": "95bc68bb",
   "metadata": {},
   "outputs": [
    {
     "data": {
      "text/plain": [
       "<Axes: xlabel='price', ylabel='total_sqft'>"
      ]
     },
     "execution_count": 97,
     "metadata": {},
     "output_type": "execute_result"
    },
    {
     "data": {
      "image/png": "[encoded data removed]",
      "text/plain": [
       "<Figure size 1000x500 with 1 Axes>"
      ]
     },
     "metadata": {},
     "output_type": "display_data"
    }
   ],
   "source": [
    "plt.figure(figsize=(10,5))\n",
    "sns.scatterplot(x=df5_n[\"price\"], y=df5_n[\"total_sqft\"])"
   ]
  },
  {
   "cell_type": "code",
   "execution_count": 98,
   "id": "e880d478",
   "metadata": {},
   "outputs": [
    {
     "data": {
      "text/html": [
       "<div>\n",
       "<style scoped>\n",
       "    .dataframe tbody tr th:only-of-type {\n",
       "        vertical-align: middle;\n",
       "    }\n",
       "\n",
       "    .dataframe tbody tr th {\n",
       "        vertical-align: top;\n",
       "    }\n",
       "\n",
       "    .dataframe thead th {\n",
       "        text-align: right;\n",
       "    }\n",
       "</style>\n",
       "<table border=\"1\" class=\"dataframe\">\n",
       "  <thead>\n",
       "    <tr style=\"text-align: right;\">\n",
       "      <th></th>\n",
       "      <th>size</th>\n",
       "      <th>total_sqft</th>\n",
       "      <th>bath</th>\n",
       "      <th>balcony</th>\n",
       "      <th>price</th>\n",
       "    </tr>\n",
       "  </thead>\n",
       "  <tbody>\n",
       "    <tr>\n",
       "      <th>size</th>\n",
       "      <td>1.000000</td>\n",
       "      <td>0.083022</td>\n",
       "      <td>0.865669</td>\n",
       "      <td>0.245218</td>\n",
       "      <td>0.479798</td>\n",
       "    </tr>\n",
       "    <tr>\n",
       "      <th>total_sqft</th>\n",
       "      <td>0.083022</td>\n",
       "      <td>1.000000</td>\n",
       "      <td>0.074769</td>\n",
       "      <td>0.012340</td>\n",
       "      <td>0.049393</td>\n",
       "    </tr>\n",
       "    <tr>\n",
       "      <th>bath</th>\n",
       "      <td>0.865669</td>\n",
       "      <td>0.074769</td>\n",
       "      <td>1.000000</td>\n",
       "      <td>0.241722</td>\n",
       "      <td>0.527157</td>\n",
       "    </tr>\n",
       "    <tr>\n",
       "      <th>balcony</th>\n",
       "      <td>0.245218</td>\n",
       "      <td>0.012340</td>\n",
       "      <td>0.241722</td>\n",
       "      <td>1.000000</td>\n",
       "      <td>0.123580</td>\n",
       "    </tr>\n",
       "    <tr>\n",
       "      <th>price</th>\n",
       "      <td>0.479798</td>\n",
       "      <td>0.049393</td>\n",
       "      <td>0.527157</td>\n",
       "      <td>0.123580</td>\n",
       "      <td>1.000000</td>\n",
       "    </tr>\n",
       "  </tbody>\n",
       "</table>\n",
       "</div>"
      ],
      "text/plain": [
       "                size  total_sqft      bath   balcony     price\n",
       "size        1.000000    0.083022  0.865669  0.245218  0.479798\n",
       "total_sqft  0.083022    1.000000  0.074769  0.012340  0.049393\n",
       "bath        0.865669    0.074769  1.000000  0.241722  0.527157\n",
       "balcony     0.245218    0.012340  0.241722  1.000000  0.123580\n",
       "price       0.479798    0.049393  0.527157  0.123580  1.000000"
      ]
     },
     "execution_count": 98,
     "metadata": {},
     "output_type": "execute_result"
    }
   ],
   "source": [
    "df5_n.select_dtypes([\"int\",\"float\"]).corr()"
   ]
  },
  {
   "cell_type": "code",
   "execution_count": 99,
   "id": "f8828d61",
   "metadata": {},
   "outputs": [
    {
     "name": "stderr",
     "output_type": "stream",
     "text": [
      "C:\\Users\\DELL PC\\AppData\\Local\\Temp\\ipykernel_9240\\1799111988.py:1: SettingWithCopyWarning: \n",
      "A value is trying to be set on a copy of a slice from a DataFrame.\n",
      "Try using .loc[row_indexer,col_indexer] = value instead\n",
      "\n",
      "See the caveats in the documentation: https://pandas.pydata.org/pandas-docs/stable/user_guide/indexing.html#returning-a-view-versus-a-copy\n",
      "  df5_n[\"price_per_sqft\"] = df5_n[\"price\"]*100000/df5_n[\"total_sqft\"]\n"
     ]
    }
   ],
   "source": [
    "# price_per_sqft column just create for outliers detection because original prices are too low\n",
    "df5_n[\"price_per_sqft\"] = df5_n[\"price\"]*100000/df5_n[\"total_sqft\"]"
   ]
  },
  {
   "cell_type": "code",
   "execution_count": 110,
   "id": "572d4bf3",
   "metadata": {},
   "outputs": [
    {
     "data": {
      "text/html": [
       "<div>\n",
       "<style scoped>\n",
       "    .dataframe tbody tr th:only-of-type {\n",
       "        vertical-align: middle;\n",
       "    }\n",
       "\n",
       "    .dataframe tbody tr th {\n",
       "        vertical-align: top;\n",
       "    }\n",
       "\n",
       "    .dataframe thead th {\n",
       "        text-align: right;\n",
       "    }\n",
       "</style>\n",
       "<table border=\"1\" class=\"dataframe\">\n",
       "  <thead>\n",
       "    <tr style=\"text-align: right;\">\n",
       "      <th></th>\n",
       "      <th>area_type</th>\n",
       "      <th>location</th>\n",
       "      <th>size</th>\n",
       "      <th>total_sqft</th>\n",
       "      <th>bath</th>\n",
       "      <th>balcony</th>\n",
       "      <th>price</th>\n",
       "      <th>price_per_sqft</th>\n",
       "    </tr>\n",
       "  </thead>\n",
       "  <tbody>\n",
       "    <tr>\n",
       "      <th>3463</th>\n",
       "      <td>Built-up  Area</td>\n",
       "      <td>Kasavanhalli</td>\n",
       "      <td>3</td>\n",
       "      <td>1719</td>\n",
       "      <td>3</td>\n",
       "      <td>2</td>\n",
       "      <td>116</td>\n",
       "      <td>6748.109366</td>\n",
       "    </tr>\n",
       "    <tr>\n",
       "      <th>7393</th>\n",
       "      <td>Built-up  Area</td>\n",
       "      <td>other</td>\n",
       "      <td>2</td>\n",
       "      <td>1080</td>\n",
       "      <td>2</td>\n",
       "      <td>2</td>\n",
       "      <td>45</td>\n",
       "      <td>4166.666667</td>\n",
       "    </tr>\n",
       "    <tr>\n",
       "      <th>8287</th>\n",
       "      <td>Super built-up  Area</td>\n",
       "      <td>other</td>\n",
       "      <td>3</td>\n",
       "      <td>1600</td>\n",
       "      <td>3</td>\n",
       "      <td>2</td>\n",
       "      <td>74</td>\n",
       "      <td>4625.000000</td>\n",
       "    </tr>\n",
       "    <tr>\n",
       "      <th>2190</th>\n",
       "      <td>Plot  Area</td>\n",
       "      <td>other</td>\n",
       "      <td>4</td>\n",
       "      <td>1350</td>\n",
       "      <td>4</td>\n",
       "      <td>1</td>\n",
       "      <td>200</td>\n",
       "      <td>14814.814815</td>\n",
       "    </tr>\n",
       "    <tr>\n",
       "      <th>11442</th>\n",
       "      <td>Super built-up  Area</td>\n",
       "      <td>other</td>\n",
       "      <td>2</td>\n",
       "      <td>976</td>\n",
       "      <td>2</td>\n",
       "      <td>1</td>\n",
       "      <td>50</td>\n",
       "      <td>5122.950820</td>\n",
       "    </tr>\n",
       "  </tbody>\n",
       "</table>\n",
       "</div>"
      ],
      "text/plain": [
       "                  area_type      location  size  total_sqft  bath  balcony  \\\n",
       "3463         Built-up  Area  Kasavanhalli     3        1719     3        2   \n",
       "7393         Built-up  Area         other     2        1080     2        2   \n",
       "8287   Super built-up  Area         other     3        1600     3        2   \n",
       "2190             Plot  Area         other     4        1350     4        1   \n",
       "11442  Super built-up  Area         other     2         976     2        1   \n",
       "\n",
       "       price  price_per_sqft  \n",
       "3463     116     6748.109366  \n",
       "7393      45     4166.666667  \n",
       "8287      74     4625.000000  \n",
       "2190     200    14814.814815  \n",
       "11442     50     5122.950820  "
      ]
     },
     "execution_count": 110,
     "metadata": {},
     "output_type": "execute_result"
    }
   ],
   "source": [
    "df5_n.sample(5)"
   ]
  },
  {
   "cell_type": "markdown",
   "id": "ca2b6754",
   "metadata": {},
   "source": [
    "### Use 1 Standard Deviation which contains 68% of data"
   ]
  },
  {
   "cell_type": "code",
   "execution_count": 105,
   "id": "341ad8d6",
   "metadata": {},
   "outputs": [],
   "source": [
    "# outlier removal from price_per_sqft\n",
    "def remove_pps_outliers(dataframe):\n",
    "    df_out = pd.DataFrame()\n",
    "    for location, subdf in dataframe.groupby('location'):\n",
    "        m = np.mean(subdf.price_per_sqft)\n",
    "        st = np.std(subdf.price_per_sqft)\n",
    "        reduce_df = subdf[(subdf.price_per_sqft > (m-st)) & (subdf.price_per_sqft <= (m+st))]\n",
    "        df_out = pd.concat([df_out, reduce_df], ignore_index=True)\n",
    "    return df_out"
   ]
  },
  {
   "cell_type": "markdown",
   "id": "9b648e59",
   "metadata": {},
   "source": [
    "#### df6"
   ]
  },
  {
   "cell_type": "code",
   "execution_count": 106,
   "id": "c6e046ae",
   "metadata": {},
   "outputs": [],
   "source": [
    "df6 = remove_pps_outliers(df5_n)"
   ]
  },
  {
   "cell_type": "code",
   "execution_count": 107,
   "id": "f3e9213e",
   "metadata": {},
   "outputs": [
    {
     "data": {
      "text/plain": [
       "(10618, 8)"
      ]
     },
     "execution_count": 107,
     "metadata": {},
     "output_type": "execute_result"
    }
   ],
   "source": [
    "df6.shape"
   ]
  },
  {
   "cell_type": "code",
   "execution_count": 108,
   "id": "bc5dd4cc",
   "metadata": {},
   "outputs": [
    {
     "data": {
      "text/plain": [
       "Text(0.5, 1.0, 'PP_sqft after outlier removal')"
      ]
     },
     "execution_count": 108,
     "metadata": {},
     "output_type": "execute_result"
    },
    {
     "data": {
      "image/png": "[encoded data removed]",
      "text/plain": [
       "<Figure size 640x480 with 2 Axes>"
      ]
     },
     "metadata": {},
     "output_type": "display_data"
    }
   ],
   "source": [
    "fig, (ax1, ax2) = plt.subplots(ncols=2)\n",
    "\n",
    "sns.histplot(x=df5_n[\"price_per_sqft\"], kde=True, ax=ax1)\n",
    "ax1.set_title(\"PP_sqft before outlier removal\")\n",
    "\n",
    "sns.histplot(x=df6[\"price_per_sqft\"], kde=True, ax=ax2)\n",
    "ax2.set_title(\"PP_sqft after outlier removal\")"
   ]
  },
  {
   "cell_type": "code",
   "execution_count": 111,
   "id": "19015ff7",
   "metadata": {},
   "outputs": [
    {
     "data": {
      "text/plain": [
       "(10618, 8)"
      ]
     },
     "execution_count": 111,
     "metadata": {},
     "output_type": "execute_result"
    }
   ],
   "source": [
    "df6.shape"
   ]
  },
  {
   "cell_type": "markdown",
   "id": "b62176c0",
   "metadata": {},
   "source": [
    "#### df7"
   ]
  },
  {
   "cell_type": "code",
   "execution_count": 112,
   "id": "4b4fe592",
   "metadata": {},
   "outputs": [],
   "source": [
    "df7 = df6.copy()"
   ]
  },
  {
   "cell_type": "code",
   "execution_count": 115,
   "id": "0bccbbee",
   "metadata": {},
   "outputs": [
    {
     "data": {
      "text/html": [
       "<div>\n",
       "<style scoped>\n",
       "    .dataframe tbody tr th:only-of-type {\n",
       "        vertical-align: middle;\n",
       "    }\n",
       "\n",
       "    .dataframe tbody tr th {\n",
       "        vertical-align: top;\n",
       "    }\n",
       "\n",
       "    .dataframe thead th {\n",
       "        text-align: right;\n",
       "    }\n",
       "</style>\n",
       "<table border=\"1\" class=\"dataframe\">\n",
       "  <thead>\n",
       "    <tr style=\"text-align: right;\">\n",
       "      <th></th>\n",
       "      <th>area_type</th>\n",
       "      <th>location</th>\n",
       "      <th>size</th>\n",
       "      <th>total_sqft</th>\n",
       "      <th>bath</th>\n",
       "      <th>balcony</th>\n",
       "      <th>price</th>\n",
       "      <th>price_per_sqft</th>\n",
       "    </tr>\n",
       "  </thead>\n",
       "  <tbody>\n",
       "    <tr>\n",
       "      <th>10545</th>\n",
       "      <td>Built-up  Area</td>\n",
       "      <td>other</td>\n",
       "      <td>4</td>\n",
       "      <td>2700</td>\n",
       "      <td>3</td>\n",
       "      <td>2</td>\n",
       "      <td>230</td>\n",
       "      <td>8518.518519</td>\n",
       "    </tr>\n",
       "    <tr>\n",
       "      <th>8978</th>\n",
       "      <td>Super built-up  Area</td>\n",
       "      <td>other</td>\n",
       "      <td>3</td>\n",
       "      <td>1260</td>\n",
       "      <td>2</td>\n",
       "      <td>1</td>\n",
       "      <td>95</td>\n",
       "      <td>7539.682540</td>\n",
       "    </tr>\n",
       "    <tr>\n",
       "      <th>8797</th>\n",
       "      <td>Super built-up  Area</td>\n",
       "      <td>other</td>\n",
       "      <td>1</td>\n",
       "      <td>500</td>\n",
       "      <td>1</td>\n",
       "      <td>1</td>\n",
       "      <td>14</td>\n",
       "      <td>2800.000000</td>\n",
       "    </tr>\n",
       "    <tr>\n",
       "      <th>3107</th>\n",
       "      <td>Super built-up  Area</td>\n",
       "      <td>Kanakpura Road</td>\n",
       "      <td>2</td>\n",
       "      <td>700</td>\n",
       "      <td>2</td>\n",
       "      <td>1</td>\n",
       "      <td>34</td>\n",
       "      <td>4857.142857</td>\n",
       "    </tr>\n",
       "    <tr>\n",
       "      <th>3882</th>\n",
       "      <td>Super built-up  Area</td>\n",
       "      <td>Old Airport Road</td>\n",
       "      <td>4</td>\n",
       "      <td>2658</td>\n",
       "      <td>5</td>\n",
       "      <td>3</td>\n",
       "      <td>189</td>\n",
       "      <td>7110.609481</td>\n",
       "    </tr>\n",
       "  </tbody>\n",
       "</table>\n",
       "</div>"
      ],
      "text/plain": [
       "                  area_type          location  size  total_sqft  bath  \\\n",
       "10545        Built-up  Area             other     4        2700     3   \n",
       "8978   Super built-up  Area             other     3        1260     2   \n",
       "8797   Super built-up  Area             other     1         500     1   \n",
       "3107   Super built-up  Area    Kanakpura Road     2         700     2   \n",
       "3882   Super built-up  Area  Old Airport Road     4        2658     5   \n",
       "\n",
       "       balcony  price  price_per_sqft  \n",
       "10545        2    230     8518.518519  \n",
       "8978         1     95     7539.682540  \n",
       "8797         1     14     2800.000000  \n",
       "3107         1     34     4857.142857  \n",
       "3882         3    189     7110.609481  "
      ]
     },
     "execution_count": 115,
     "metadata": {},
     "output_type": "execute_result"
    }
   ],
   "source": [
    "df7.sample(5)"
   ]
  },
  {
   "cell_type": "markdown",
   "id": "26be7683",
   "metadata": {},
   "source": [
    "## Checking bedroom 2 total_sqft is greater that 3 sqft or not"
   ]
  },
  {
   "cell_type": "code",
   "execution_count": 118,
   "id": "4cc64339",
   "metadata": {},
   "outputs": [],
   "source": [
    "def plot_scatter_chart(df, location):\n",
    "    bedroom_2 = df[(df[\"location\"]==location) & (df[\"size\"]==2)]\n",
    "    bedroom_3 = df[(df[\"location\"]==location) & (df[\"size\"]==3)]\n",
    "    \n",
    "    fig, ax1 = plt.subplots(ncols=1, figsize=(12,6))\n",
    "    \n",
    "    sns.scatterplot(x=bedroom_2[\"total_sqft\"], y=bedroom_2[\"price\"], ax=ax1, marker=\".\",s =90, label=\"2 Bedrooms\")\n",
    "    sns.scatterplot(x=bedroom_3[\"total_sqft\"], y=bedroom_3[\"price\"], ax=ax1, marker=\"*\",s =90, label=\"3 Bedrooms\")\n",
    "    ax1.set_title(\"Bedrooms are 2 and 3\")"
   ]
  },
  {
   "cell_type": "code",
   "execution_count": 119,
   "id": "09b9cd45",
   "metadata": {},
   "outputs": [
    {
     "data": {
      "image/png": "[encoded data removed]",
      "text/plain": [
       "<Figure size 1200x600 with 1 Axes>"
      ]
     },
     "metadata": {},
     "output_type": "display_data"
    }
   ],
   "source": [
    "plot_scatter_chart(df7, \"Kanakpura Road\")"
   ]
  },
  {
   "cell_type": "markdown",
   "id": "3a99e06f",
   "metadata": {},
   "source": [
    "### Different Locations have different prices for houses so cleaning data according to locations"
   ]
  },
  {
   "cell_type": "code",
   "execution_count": 144,
   "id": "03f31ff5",
   "metadata": {},
   "outputs": [],
   "source": [
    "# outlier removal from square root area and bedrooms\n",
    "def remove_bedroom_outlier(df):\n",
    "    exlude_indexes = np.array([])\n",
    "    for location, location_df in df.groupby(\"location\"):\n",
    "        bedroom_stats = {}\n",
    "        for bed, bed_df in location_df.groupby(\"size\"):\n",
    "            bedroom_stats[bed] = {\n",
    "                \"mean\" : np.mean(bed_df.price_per_sqft),\n",
    "                \"std\"  : np.std(bed_df.price_per_sqft),\n",
    "                \"count\": bed_df.shape[0]\n",
    "            }\n",
    "        for bed, bed_df in location_df.groupby(\"size\"):\n",
    "            stats = bedroom_stats.get(bed-1)\n",
    "            if stats and stats[\"count\"]>5:\n",
    "                exlude_indexes = np.append(exlude_indexes, bed_df[bed_df.price_per_sqft<(stats[\"mean\"])].index.values)\n",
    "    return df.drop(exlude_indexes, axis=\"index\")"
   ]
  },
  {
   "cell_type": "markdown",
   "id": "0a6d205f",
   "metadata": {},
   "source": [
    "#### df8"
   ]
  },
  {
   "cell_type": "code",
   "execution_count": 146,
   "id": "651b0e18",
   "metadata": {},
   "outputs": [],
   "source": [
    "df8 = remove_bedroom_outlier(df7)"
   ]
  },
  {
   "cell_type": "code",
   "execution_count": 147,
   "id": "95a08489",
   "metadata": {},
   "outputs": [
    {
     "data": {
      "text/plain": [
       "(6717, 8)"
      ]
     },
     "execution_count": 147,
     "metadata": {},
     "output_type": "execute_result"
    }
   ],
   "source": [
    "df8.shape"
   ]
  },
  {
   "cell_type": "code",
   "execution_count": 148,
   "id": "9f263449",
   "metadata": {},
   "outputs": [
    {
     "data": {
      "image/png": "[encoded data removed]",
      "text/plain": [
       "<Figure size 1200x600 with 1 Axes>"
      ]
     },
     "metadata": {},
     "output_type": "display_data"
    }
   ],
   "source": [
    "plot_scatter_chart(df8, \"Kanakpura Road\")"
   ]
  },
  {
   "cell_type": "code",
   "execution_count": 149,
   "id": "4ba74043",
   "metadata": {},
   "outputs": [
    {
     "data": {
      "text/plain": [
       "Text(0.5, 1.0, 'Price Boxplot')"
      ]
     },
     "execution_count": 149,
     "metadata": {},
     "output_type": "execute_result"
    },
    {
     "data": {
      "image/png": "[encoded data removed]",
      "text/plain": [
       "<Figure size 1200x1600 with 4 Axes>"
      ]
     },
     "metadata": {},
     "output_type": "display_data"
    }
   ],
   "source": [
    "# Check distribution of data\n",
    "fig, axes = plt.subplots(ncols=2, nrows=2, figsize=(12,16))\n",
    "\n",
    "sns.boxplot(x=df8[\"size\"], ax=axes[0,0])\n",
    "axes[0,0].set_title(\"Size Boxplot\")\n",
    "\n",
    "sns.boxplot(x=df8[\"bath\"], ax=axes[0,1])\n",
    "axes[0,1].set_title(\"Bath Boxplot\")\n",
    "\n",
    "sns.boxplot(x=df8[\"balcony\"], ax=axes[1,0])\n",
    "axes[1,0].set_title(\"Balcony Boxplot\")\n",
    "\n",
    "sns.boxplot(x=df8[\"price\"], ax=axes[1,1])\n",
    "axes[1,1].set_title(\"Price Boxplot\")"
   ]
  },
  {
   "cell_type": "code",
   "execution_count": 155,
   "id": "feeea43e",
   "metadata": {},
   "outputs": [
    {
     "data": {
      "text/html": [
       "<div>\n",
       "<style scoped>\n",
       "    .dataframe tbody tr th:only-of-type {\n",
       "        vertical-align: middle;\n",
       "    }\n",
       "\n",
       "    .dataframe tbody tr th {\n",
       "        vertical-align: top;\n",
       "    }\n",
       "\n",
       "    .dataframe thead th {\n",
       "        text-align: right;\n",
       "    }\n",
       "</style>\n",
       "<table border=\"1\" class=\"dataframe\">\n",
       "  <thead>\n",
       "    <tr style=\"text-align: right;\">\n",
       "      <th></th>\n",
       "      <th>area_type</th>\n",
       "      <th>location</th>\n",
       "      <th>size</th>\n",
       "      <th>total_sqft</th>\n",
       "      <th>bath</th>\n",
       "      <th>balcony</th>\n",
       "      <th>price</th>\n",
       "      <th>price_per_sqft</th>\n",
       "    </tr>\n",
       "  </thead>\n",
       "  <tbody>\n",
       "    <tr>\n",
       "      <th>416</th>\n",
       "      <td>Super built-up  Area</td>\n",
       "      <td>Banashankari</td>\n",
       "      <td>3</td>\n",
       "      <td>2582</td>\n",
       "      <td>5</td>\n",
       "      <td>2</td>\n",
       "      <td>250</td>\n",
       "      <td>9682.416731</td>\n",
       "    </tr>\n",
       "    <tr>\n",
       "      <th>662</th>\n",
       "      <td>Super built-up  Area</td>\n",
       "      <td>Begur Road</td>\n",
       "      <td>4</td>\n",
       "      <td>2464</td>\n",
       "      <td>6</td>\n",
       "      <td>0</td>\n",
       "      <td>118</td>\n",
       "      <td>4788.961039</td>\n",
       "    </tr>\n",
       "    <tr>\n",
       "      <th>1906</th>\n",
       "      <td>Super built-up  Area</td>\n",
       "      <td>Harlur</td>\n",
       "      <td>3</td>\n",
       "      <td>2240</td>\n",
       "      <td>5</td>\n",
       "      <td>2</td>\n",
       "      <td>155</td>\n",
       "      <td>6919.642857</td>\n",
       "    </tr>\n",
       "    <tr>\n",
       "      <th>1964</th>\n",
       "      <td>Super built-up  Area</td>\n",
       "      <td>Hebbal</td>\n",
       "      <td>3</td>\n",
       "      <td>3450</td>\n",
       "      <td>5</td>\n",
       "      <td>2</td>\n",
       "      <td>260</td>\n",
       "      <td>7536.231884</td>\n",
       "    </tr>\n",
       "    <tr>\n",
       "      <th>2062</th>\n",
       "      <td>Super built-up  Area</td>\n",
       "      <td>Hebbal</td>\n",
       "      <td>3</td>\n",
       "      <td>3520</td>\n",
       "      <td>5</td>\n",
       "      <td>2</td>\n",
       "      <td>320</td>\n",
       "      <td>9090.909091</td>\n",
       "    </tr>\n",
       "    <tr>\n",
       "      <th>...</th>\n",
       "      <td>...</td>\n",
       "      <td>...</td>\n",
       "      <td>...</td>\n",
       "      <td>...</td>\n",
       "      <td>...</td>\n",
       "      <td>...</td>\n",
       "      <td>...</td>\n",
       "      <td>...</td>\n",
       "    </tr>\n",
       "    <tr>\n",
       "      <th>10192</th>\n",
       "      <td>Super built-up  Area</td>\n",
       "      <td>other</td>\n",
       "      <td>2</td>\n",
       "      <td>600</td>\n",
       "      <td>4</td>\n",
       "      <td>1</td>\n",
       "      <td>70</td>\n",
       "      <td>11666.666667</td>\n",
       "    </tr>\n",
       "    <tr>\n",
       "      <th>10302</th>\n",
       "      <td>Plot  Area</td>\n",
       "      <td>other</td>\n",
       "      <td>3</td>\n",
       "      <td>5656</td>\n",
       "      <td>5</td>\n",
       "      <td>0</td>\n",
       "      <td>499</td>\n",
       "      <td>8822.489392</td>\n",
       "    </tr>\n",
       "    <tr>\n",
       "      <th>10538</th>\n",
       "      <td>Super built-up  Area</td>\n",
       "      <td>other</td>\n",
       "      <td>4</td>\n",
       "      <td>6652</td>\n",
       "      <td>6</td>\n",
       "      <td>1</td>\n",
       "      <td>660</td>\n",
       "      <td>9921.828022</td>\n",
       "    </tr>\n",
       "    <tr>\n",
       "      <th>10551</th>\n",
       "      <td>Plot  Area</td>\n",
       "      <td>other</td>\n",
       "      <td>4</td>\n",
       "      <td>6688</td>\n",
       "      <td>6</td>\n",
       "      <td>1</td>\n",
       "      <td>700</td>\n",
       "      <td>10466.507177</td>\n",
       "    </tr>\n",
       "    <tr>\n",
       "      <th>10578</th>\n",
       "      <td>Super built-up  Area</td>\n",
       "      <td>other</td>\n",
       "      <td>4</td>\n",
       "      <td>3124</td>\n",
       "      <td>6</td>\n",
       "      <td>3</td>\n",
       "      <td>349</td>\n",
       "      <td>11171.574904</td>\n",
       "    </tr>\n",
       "  </tbody>\n",
       "</table>\n",
       "<p>71 rows × 8 columns</p>\n",
       "</div>"
      ],
      "text/plain": [
       "                  area_type      location  size  total_sqft  bath  balcony  \\\n",
       "416    Super built-up  Area  Banashankari     3        2582     5        2   \n",
       "662    Super built-up  Area    Begur Road     4        2464     6        0   \n",
       "1906   Super built-up  Area        Harlur     3        2240     5        2   \n",
       "1964   Super built-up  Area        Hebbal     3        3450     5        2   \n",
       "2062   Super built-up  Area        Hebbal     3        3520     5        2   \n",
       "...                     ...           ...   ...         ...   ...      ...   \n",
       "10192  Super built-up  Area         other     2         600     4        1   \n",
       "10302            Plot  Area         other     3        5656     5        0   \n",
       "10538  Super built-up  Area         other     4        6652     6        1   \n",
       "10551            Plot  Area         other     4        6688     6        1   \n",
       "10578  Super built-up  Area         other     4        3124     6        3   \n",
       "\n",
       "       price  price_per_sqft  \n",
       "416      250     9682.416731  \n",
       "662      118     4788.961039  \n",
       "1906     155     6919.642857  \n",
       "1964     260     7536.231884  \n",
       "2062     320     9090.909091  \n",
       "...      ...             ...  \n",
       "10192     70    11666.666667  \n",
       "10302    499     8822.489392  \n",
       "10538    660     9921.828022  \n",
       "10551    700    10466.507177  \n",
       "10578    349    11171.574904  \n",
       "\n",
       "[71 rows x 8 columns]"
      ]
     },
     "execution_count": 155,
     "metadata": {},
     "output_type": "execute_result"
    }
   ],
   "source": [
    "# it is impossible that 2 bedrooms house contains 5 to 6 baths, so clean data according to bedrooms and bath\n",
    "df8[df8[\"bath\"]>df8[\"size\"]+1]"
   ]
  },
  {
   "cell_type": "markdown",
   "id": "2cd36bbd",
   "metadata": {},
   "source": [
    "#### df9"
   ]
  },
  {
   "cell_type": "code",
   "execution_count": 156,
   "id": "67c9478e",
   "metadata": {},
   "outputs": [],
   "source": [
    "df9 = df8[df8[\"bath\"]<df8[\"size\"]+1]"
   ]
  },
  {
   "cell_type": "code",
   "execution_count": 157,
   "id": "d00fb548",
   "metadata": {},
   "outputs": [
    {
     "data": {
      "text/plain": [
       "(6260, 8)"
      ]
     },
     "execution_count": 157,
     "metadata": {},
     "output_type": "execute_result"
    }
   ],
   "source": [
    "df9.shape"
   ]
  },
  {
   "cell_type": "code",
   "execution_count": 158,
   "id": "0b5d658b",
   "metadata": {},
   "outputs": [
    {
     "name": "stderr",
     "output_type": "stream",
     "text": [
      "C:\\Users\\DELL PC\\AppData\\Local\\Temp\\ipykernel_9240\\753056970.py:1: SettingWithCopyWarning: \n",
      "A value is trying to be set on a copy of a slice from a DataFrame\n",
      "\n",
      "See the caveats in the documentation: https://pandas.pydata.org/pandas-docs/stable/user_guide/indexing.html#returning-a-view-versus-a-copy\n",
      "  df9.drop(columns=[\"price_per_sqft\"], inplace=True)\n"
     ]
    }
   ],
   "source": [
    "df9.drop(columns=[\"price_per_sqft\"], inplace=True)"
   ]
  },
  {
   "cell_type": "code",
   "execution_count": 159,
   "id": "2f2ff5e4",
   "metadata": {},
   "outputs": [
    {
     "data": {
      "text/html": [
       "<div>\n",
       "<style scoped>\n",
       "    .dataframe tbody tr th:only-of-type {\n",
       "        vertical-align: middle;\n",
       "    }\n",
       "\n",
       "    .dataframe tbody tr th {\n",
       "        vertical-align: top;\n",
       "    }\n",
       "\n",
       "    .dataframe thead th {\n",
       "        text-align: right;\n",
       "    }\n",
       "</style>\n",
       "<table border=\"1\" class=\"dataframe\">\n",
       "  <thead>\n",
       "    <tr style=\"text-align: right;\">\n",
       "      <th></th>\n",
       "      <th>area_type</th>\n",
       "      <th>location</th>\n",
       "      <th>size</th>\n",
       "      <th>total_sqft</th>\n",
       "      <th>bath</th>\n",
       "      <th>balcony</th>\n",
       "      <th>price</th>\n",
       "    </tr>\n",
       "  </thead>\n",
       "  <tbody>\n",
       "    <tr>\n",
       "      <th>0</th>\n",
       "      <td>Super built-up  Area</td>\n",
       "      <td>5th Phase JP Nagar</td>\n",
       "      <td>2</td>\n",
       "      <td>1075</td>\n",
       "      <td>2</td>\n",
       "      <td>2</td>\n",
       "      <td>60</td>\n",
       "    </tr>\n",
       "    <tr>\n",
       "      <th>2</th>\n",
       "      <td>Built-up  Area</td>\n",
       "      <td>5th Phase JP Nagar</td>\n",
       "      <td>2</td>\n",
       "      <td>1256</td>\n",
       "      <td>2</td>\n",
       "      <td>1</td>\n",
       "      <td>62</td>\n",
       "    </tr>\n",
       "    <tr>\n",
       "      <th>3</th>\n",
       "      <td>Super built-up  Area</td>\n",
       "      <td>5th Phase JP Nagar</td>\n",
       "      <td>2</td>\n",
       "      <td>1207</td>\n",
       "      <td>2</td>\n",
       "      <td>2</td>\n",
       "      <td>63</td>\n",
       "    </tr>\n",
       "    <tr>\n",
       "      <th>4</th>\n",
       "      <td>Built-up  Area</td>\n",
       "      <td>5th Phase JP Nagar</td>\n",
       "      <td>3</td>\n",
       "      <td>1725</td>\n",
       "      <td>2</td>\n",
       "      <td>2</td>\n",
       "      <td>100</td>\n",
       "    </tr>\n",
       "    <tr>\n",
       "      <th>5</th>\n",
       "      <td>Super built-up  Area</td>\n",
       "      <td>5th Phase JP Nagar</td>\n",
       "      <td>2</td>\n",
       "      <td>1440</td>\n",
       "      <td>2</td>\n",
       "      <td>2</td>\n",
       "      <td>60</td>\n",
       "    </tr>\n",
       "  </tbody>\n",
       "</table>\n",
       "</div>"
      ],
      "text/plain": [
       "              area_type            location  size  total_sqft  bath  balcony  \\\n",
       "0  Super built-up  Area  5th Phase JP Nagar     2        1075     2        2   \n",
       "2        Built-up  Area  5th Phase JP Nagar     2        1256     2        1   \n",
       "3  Super built-up  Area  5th Phase JP Nagar     2        1207     2        2   \n",
       "4        Built-up  Area  5th Phase JP Nagar     3        1725     2        2   \n",
       "5  Super built-up  Area  5th Phase JP Nagar     2        1440     2        2   \n",
       "\n",
       "   price  \n",
       "0     60  \n",
       "2     62  \n",
       "3     63  \n",
       "4    100  \n",
       "5     60  "
      ]
     },
     "execution_count": 159,
     "metadata": {},
     "output_type": "execute_result"
    }
   ],
   "source": [
    "df9.head(5)"
   ]
  },
  {
   "cell_type": "code",
   "execution_count": 233,
   "id": "b18c4dc6",
   "metadata": {},
   "outputs": [
    {
     "data": {
      "text/html": [
       "<div>\n",
       "<style scoped>\n",
       "    .dataframe tbody tr th:only-of-type {\n",
       "        vertical-align: middle;\n",
       "    }\n",
       "\n",
       "    .dataframe tbody tr th {\n",
       "        vertical-align: top;\n",
       "    }\n",
       "\n",
       "    .dataframe thead th {\n",
       "        text-align: right;\n",
       "    }\n",
       "</style>\n",
       "<table border=\"1\" class=\"dataframe\">\n",
       "  <thead>\n",
       "    <tr style=\"text-align: right;\">\n",
       "      <th></th>\n",
       "      <th>size</th>\n",
       "      <th>total_sqft</th>\n",
       "      <th>bath</th>\n",
       "      <th>balcony</th>\n",
       "      <th>price</th>\n",
       "    </tr>\n",
       "  </thead>\n",
       "  <tbody>\n",
       "    <tr>\n",
       "      <th>size</th>\n",
       "      <td>1.000000</td>\n",
       "      <td>0.645902</td>\n",
       "      <td>0.911251</td>\n",
       "      <td>0.296061</td>\n",
       "      <td>0.590355</td>\n",
       "    </tr>\n",
       "    <tr>\n",
       "      <th>total_sqft</th>\n",
       "      <td>0.645902</td>\n",
       "      <td>1.000000</td>\n",
       "      <td>0.645882</td>\n",
       "      <td>0.261834</td>\n",
       "      <td>0.865571</td>\n",
       "    </tr>\n",
       "    <tr>\n",
       "      <th>bath</th>\n",
       "      <td>0.911251</td>\n",
       "      <td>0.645882</td>\n",
       "      <td>1.000000</td>\n",
       "      <td>0.311964</td>\n",
       "      <td>0.594000</td>\n",
       "    </tr>\n",
       "    <tr>\n",
       "      <th>balcony</th>\n",
       "      <td>0.296061</td>\n",
       "      <td>0.261834</td>\n",
       "      <td>0.311964</td>\n",
       "      <td>1.000000</td>\n",
       "      <td>0.224345</td>\n",
       "    </tr>\n",
       "    <tr>\n",
       "      <th>price</th>\n",
       "      <td>0.590355</td>\n",
       "      <td>0.865571</td>\n",
       "      <td>0.594000</td>\n",
       "      <td>0.224345</td>\n",
       "      <td>1.000000</td>\n",
       "    </tr>\n",
       "  </tbody>\n",
       "</table>\n",
       "</div>"
      ],
      "text/plain": [
       "                size  total_sqft      bath   balcony     price\n",
       "size        1.000000    0.645902  0.911251  0.296061  0.590355\n",
       "total_sqft  0.645902    1.000000  0.645882  0.261834  0.865571\n",
       "bath        0.911251    0.645882  1.000000  0.311964  0.594000\n",
       "balcony     0.296061    0.261834  0.311964  1.000000  0.224345\n",
       "price       0.590355    0.865571  0.594000  0.224345  1.000000"
      ]
     },
     "execution_count": 233,
     "metadata": {},
     "output_type": "execute_result"
    }
   ],
   "source": [
    "df9.select_dtypes([\"int\",\"float\"]).corr()"
   ]
  },
  {
   "cell_type": "markdown",
   "id": "9eb3e1ce",
   "metadata": {},
   "source": [
    "# Model Building"
   ]
  },
  {
   "cell_type": "code",
   "execution_count": 282,
   "id": "e41a10ff",
   "metadata": {},
   "outputs": [],
   "source": [
    "df = df9.copy()"
   ]
  },
  {
   "cell_type": "code",
   "execution_count": 283,
   "id": "347093cc",
   "metadata": {},
   "outputs": [
    {
     "data": {
      "text/plain": [
       "(6260, 7)"
      ]
     },
     "execution_count": 283,
     "metadata": {},
     "output_type": "execute_result"
    }
   ],
   "source": [
    "df.shape"
   ]
  },
  {
   "cell_type": "code",
   "execution_count": 284,
   "id": "9434dedf",
   "metadata": {},
   "outputs": [
    {
     "data": {
      "text/html": [
       "<div>\n",
       "<style scoped>\n",
       "    .dataframe tbody tr th:only-of-type {\n",
       "        vertical-align: middle;\n",
       "    }\n",
       "\n",
       "    .dataframe tbody tr th {\n",
       "        vertical-align: top;\n",
       "    }\n",
       "\n",
       "    .dataframe thead th {\n",
       "        text-align: right;\n",
       "    }\n",
       "</style>\n",
       "<table border=\"1\" class=\"dataframe\">\n",
       "  <thead>\n",
       "    <tr style=\"text-align: right;\">\n",
       "      <th></th>\n",
       "      <th>area_type</th>\n",
       "      <th>location</th>\n",
       "      <th>size</th>\n",
       "      <th>total_sqft</th>\n",
       "      <th>bath</th>\n",
       "      <th>balcony</th>\n",
       "      <th>price</th>\n",
       "    </tr>\n",
       "  </thead>\n",
       "  <tbody>\n",
       "    <tr>\n",
       "      <th>0</th>\n",
       "      <td>Super built-up  Area</td>\n",
       "      <td>5th Phase JP Nagar</td>\n",
       "      <td>2</td>\n",
       "      <td>1075</td>\n",
       "      <td>2</td>\n",
       "      <td>2</td>\n",
       "      <td>60</td>\n",
       "    </tr>\n",
       "    <tr>\n",
       "      <th>2</th>\n",
       "      <td>Built-up  Area</td>\n",
       "      <td>5th Phase JP Nagar</td>\n",
       "      <td>2</td>\n",
       "      <td>1256</td>\n",
       "      <td>2</td>\n",
       "      <td>1</td>\n",
       "      <td>62</td>\n",
       "    </tr>\n",
       "    <tr>\n",
       "      <th>3</th>\n",
       "      <td>Super built-up  Area</td>\n",
       "      <td>5th Phase JP Nagar</td>\n",
       "      <td>2</td>\n",
       "      <td>1207</td>\n",
       "      <td>2</td>\n",
       "      <td>2</td>\n",
       "      <td>63</td>\n",
       "    </tr>\n",
       "    <tr>\n",
       "      <th>4</th>\n",
       "      <td>Built-up  Area</td>\n",
       "      <td>5th Phase JP Nagar</td>\n",
       "      <td>3</td>\n",
       "      <td>1725</td>\n",
       "      <td>2</td>\n",
       "      <td>2</td>\n",
       "      <td>100</td>\n",
       "    </tr>\n",
       "    <tr>\n",
       "      <th>5</th>\n",
       "      <td>Super built-up  Area</td>\n",
       "      <td>5th Phase JP Nagar</td>\n",
       "      <td>2</td>\n",
       "      <td>1440</td>\n",
       "      <td>2</td>\n",
       "      <td>2</td>\n",
       "      <td>60</td>\n",
       "    </tr>\n",
       "  </tbody>\n",
       "</table>\n",
       "</div>"
      ],
      "text/plain": [
       "              area_type            location  size  total_sqft  bath  balcony  \\\n",
       "0  Super built-up  Area  5th Phase JP Nagar     2        1075     2        2   \n",
       "2        Built-up  Area  5th Phase JP Nagar     2        1256     2        1   \n",
       "3  Super built-up  Area  5th Phase JP Nagar     2        1207     2        2   \n",
       "4        Built-up  Area  5th Phase JP Nagar     3        1725     2        2   \n",
       "5  Super built-up  Area  5th Phase JP Nagar     2        1440     2        2   \n",
       "\n",
       "   price  \n",
       "0     60  \n",
       "2     62  \n",
       "3     63  \n",
       "4    100  \n",
       "5     60  "
      ]
     },
     "execution_count": 284,
     "metadata": {},
     "output_type": "execute_result"
    }
   ],
   "source": [
    "df.head(5)"
   ]
  },
  {
   "cell_type": "code",
   "execution_count": 285,
   "id": "e1b66d68",
   "metadata": {},
   "outputs": [],
   "source": [
    "from sklearn.model_selection import train_test_split\n",
    "# algorithms\n",
    "from sklearn.linear_model import LinearRegression\n",
    "from sklearn.tree import DecisionTreeRegressor\n",
    "from sklearn.ensemble import RandomForestRegressor\n",
    "from sklearn.svm import SVR\n",
    "from sklearn.neighbors import KNeighborsRegressor\n",
    "# accuracy measurement\n",
    "from sklearn.metrics import mean_squared_error\n",
    "# column transformer and pipeline\n",
    "from sklearn.compose import ColumnTransformer\n",
    "from sklearn.pipeline import Pipeline\n",
    "# encoders\n",
    "from sklearn.preprocessing import OneHotEncoder, MinMaxScaler"
   ]
  },
  {
   "cell_type": "code",
   "execution_count": 286,
   "id": "49608fca",
   "metadata": {},
   "outputs": [],
   "source": [
    "x = df.drop(\"price\", axis=1)\n",
    "y = df[\"price\"]\n",
    "\n",
    "x_train, x_test, y_train, y_test = train_test_split(x, y, test_size=0.20, random_state=10)"
   ]
  },
  {
   "cell_type": "code",
   "execution_count": 287,
   "id": "a052e2da",
   "metadata": {},
   "outputs": [
    {
     "data": {
      "text/plain": [
       "5008"
      ]
     },
     "execution_count": 287,
     "metadata": {},
     "output_type": "execute_result"
    }
   ],
   "source": [
    "len(x_train)"
   ]
  },
  {
   "cell_type": "code",
   "execution_count": 288,
   "id": "3721c6a3",
   "metadata": {},
   "outputs": [
    {
     "data": {
      "text/plain": [
       "1252"
      ]
     },
     "execution_count": 288,
     "metadata": {},
     "output_type": "execute_result"
    }
   ],
   "source": [
    "len(x_test)"
   ]
  },
  {
   "cell_type": "code",
   "execution_count": 289,
   "id": "ef6ea5a8",
   "metadata": {},
   "outputs": [
    {
     "data": {
      "text/html": [
       "<div>\n",
       "<style scoped>\n",
       "    .dataframe tbody tr th:only-of-type {\n",
       "        vertical-align: middle;\n",
       "    }\n",
       "\n",
       "    .dataframe tbody tr th {\n",
       "        vertical-align: top;\n",
       "    }\n",
       "\n",
       "    .dataframe thead th {\n",
       "        text-align: right;\n",
       "    }\n",
       "</style>\n",
       "<table border=\"1\" class=\"dataframe\">\n",
       "  <thead>\n",
       "    <tr style=\"text-align: right;\">\n",
       "      <th></th>\n",
       "      <th>area_type</th>\n",
       "      <th>location</th>\n",
       "      <th>size</th>\n",
       "      <th>total_sqft</th>\n",
       "      <th>bath</th>\n",
       "      <th>balcony</th>\n",
       "    </tr>\n",
       "  </thead>\n",
       "  <tbody>\n",
       "    <tr>\n",
       "      <th>689</th>\n",
       "      <td>Super built-up  Area</td>\n",
       "      <td>Bellandur</td>\n",
       "      <td>3</td>\n",
       "      <td>1490</td>\n",
       "      <td>2</td>\n",
       "      <td>2</td>\n",
       "    </tr>\n",
       "    <tr>\n",
       "      <th>2936</th>\n",
       "      <td>Super built-up  Area</td>\n",
       "      <td>Kaggadasapura</td>\n",
       "      <td>2</td>\n",
       "      <td>1180</td>\n",
       "      <td>1</td>\n",
       "      <td>0</td>\n",
       "    </tr>\n",
       "    <tr>\n",
       "      <th>4845</th>\n",
       "      <td>Super built-up  Area</td>\n",
       "      <td>Talaghattapura</td>\n",
       "      <td>3</td>\n",
       "      <td>1868</td>\n",
       "      <td>3</td>\n",
       "      <td>2</td>\n",
       "    </tr>\n",
       "  </tbody>\n",
       "</table>\n",
       "</div>"
      ],
      "text/plain": [
       "                 area_type        location  size  total_sqft  bath  balcony\n",
       "689   Super built-up  Area       Bellandur     3        1490     2        2\n",
       "2936  Super built-up  Area   Kaggadasapura     2        1180     1        0\n",
       "4845  Super built-up  Area  Talaghattapura     3        1868     3        2"
      ]
     },
     "execution_count": 289,
     "metadata": {},
     "output_type": "execute_result"
    }
   ],
   "source": [
    "x_train.head(3)"
   ]
  },
  {
   "cell_type": "code",
   "execution_count": 290,
   "id": "1248e68d",
   "metadata": {},
   "outputs": [
    {
     "data": {
      "text/plain": [
       "689      98\n",
       "2936     50\n",
       "4845    131\n",
       "Name: price, dtype: int32"
      ]
     },
     "execution_count": 290,
     "metadata": {},
     "output_type": "execute_result"
    }
   ],
   "source": [
    "y_train.head(3)"
   ]
  },
  {
   "cell_type": "code",
   "execution_count": 301,
   "id": "799e4cba",
   "metadata": {},
   "outputs": [],
   "source": [
    "c1 = ColumnTransformer(transformers=[\n",
    "    (\"oneHotEncoder\", OneHotEncoder(sparse_output=False, drop=\"first\", handle_unknown='ignore'), [0,1])\n",
    "], remainder=\"passthrough\")\n",
    "\n",
    "c2 = ColumnTransformer(transformers=[\n",
    "    (\"minMaxScaler\", MinMaxScaler(), slice(0,None))\n",
    "])"
   ]
  },
  {
   "cell_type": "markdown",
   "id": "343f57d0",
   "metadata": {},
   "source": [
    "## Model: Linear Regression "
   ]
  },
  {
   "cell_type": "code",
   "execution_count": 302,
   "id": "9c905deb",
   "metadata": {},
   "outputs": [],
   "source": [
    "c3 = LinearRegression()"
   ]
  },
  {
   "cell_type": "code",
   "execution_count": 303,
   "id": "022e88fb",
   "metadata": {},
   "outputs": [],
   "source": [
    "pipe = Pipeline([\n",
    "    (\"c1\", c1),\n",
    "    (\"c2\", c2),\n",
    "    (\"c3\", c3)\n",
    "])"
   ]
  },
  {
   "cell_type": "code",
   "execution_count": 304,
   "id": "12fb5f9f",
   "metadata": {},
   "outputs": [
    {
     "data": {
      "text/html": [
       "<style>#sk-container-id-6 {color: black;}#sk-container-id-6 pre{padding: 0;}#sk-container-id-6 div.sk-toggleable {background-color: white;}#sk-container-id-6 label.sk-toggleable__label {cursor: pointer;display: block;width: 100%;margin-bottom: 0;padding: 0.3em;box-sizing: border-box;text-align: center;}#sk-container-id-6 label.sk-toggleable__label-arrow:before {content: \"▸\";float: left;margin-right: 0.25em;color: #696969;}#sk-container-id-6 label.sk-toggleable__label-arrow:hover:before {color: black;}#sk-container-id-6 div.sk-estimator:hover label.sk-toggleable__label-arrow:before {color: black;}#sk-container-id-6 div.sk-toggleable__content {max-height: 0;max-width: 0;overflow: hidden;text-align: left;background-color: #f0f8ff;}#sk-container-id-6 div.sk-toggleable__content pre {margin: 0.2em;color: black;border-radius: 0.25em;background-color: #f0f8ff;}#sk-container-id-6 input.sk-toggleable__control:checked~div.sk-toggleable__content {max-height: 200px;max-width: 100%;overflow: auto;}#sk-container-id-6 input.sk-toggleable__control:checked~label.sk-toggleable__label-arrow:before {content: \"▾\";}#sk-container-id-6 div.sk-estimator input.sk-toggleable__control:checked~label.sk-toggleable__label {background-color: #d4ebff;}#sk-container-id-6 div.sk-label input.sk-toggleable__control:checked~label.sk-toggleable__label {background-color: #d4ebff;}#sk-container-id-6 input.sk-hidden--visually {border: 0;clip: rect(1px 1px 1px 1px);clip: rect(1px, 1px, 1px, 1px);height: 1px;margin: -1px;overflow: hidden;padding: 0;position: absolute;width: 1px;}#sk-container-id-6 div.sk-estimator {font-family: monospace;background-color: #f0f8ff;border: 1px dotted black;border-radius: 0.25em;box-sizing: border-box;margin-bottom: 0.5em;}#sk-container-id-6 div.sk-estimator:hover {background-color: #d4ebff;}#sk-container-id-6 div.sk-parallel-item::after {content: \"\";width: 100%;border-bottom: 1px solid gray;flex-grow: 1;}#sk-container-id-6 div.sk-label:hover label.sk-toggleable__label {background-color: #d4ebff;}#sk-container-id-6 div.sk-serial::before {content: \"\";position: absolute;border-left: 1px solid gray;box-sizing: border-box;top: 0;bottom: 0;left: 50%;z-index: 0;}#sk-container-id-6 div.sk-serial {display: flex;flex-direction: column;align-items: center;background-color: white;padding-right: 0.2em;padding-left: 0.2em;position: relative;}#sk-container-id-6 div.sk-item {position: relative;z-index: 1;}#sk-container-id-6 div.sk-parallel {display: flex;align-items: stretch;justify-content: center;background-color: white;position: relative;}#sk-container-id-6 div.sk-item::before, #sk-container-id-6 div.sk-parallel-item::before {content: \"\";position: absolute;border-left: 1px solid gray;box-sizing: border-box;top: 0;bottom: 0;left: 50%;z-index: -1;}#sk-container-id-6 div.sk-parallel-item {display: flex;flex-direction: column;z-index: 1;position: relative;background-color: white;}#sk-container-id-6 div.sk-parallel-item:first-child::after {align-self: flex-end;width: 50%;}#sk-container-id-6 div.sk-parallel-item:last-child::after {align-self: flex-start;width: 50%;}#sk-container-id-6 div.sk-parallel-item:only-child::after {width: 0;}#sk-container-id-6 div.sk-dashed-wrapped {border: 1px dashed gray;margin: 0 0.4em 0.5em 0.4em;box-sizing: border-box;padding-bottom: 0.4em;background-color: white;}#sk-container-id-6 div.sk-label label {font-family: monospace;font-weight: bold;display: inline-block;line-height: 1.2em;}#sk-container-id-6 div.sk-label-container {text-align: center;}#sk-container-id-6 div.sk-container {/* jupyter's `normalize.less` sets `[hidden] { display: none; }` but bootstrap.min.css set `[hidden] { display: none !important; }` so we also need the `!important` here to be able to override the default hidden behavior on the sphinx rendered scikit-learn.org. See: https://github.com/scikit-learn/scikit-learn/issues/21755 */display: inline-block !important;position: relative;}#sk-container-id-6 div.sk-text-repr-fallback {display: none;}</style><div id=\"sk-container-id-6\" class=\"sk-top-container\"><div class=\"sk-text-repr-fallback\"><pre>Pipeline(steps=[(&#x27;c1&#x27;,\n",
       "                 ColumnTransformer(remainder=&#x27;passthrough&#x27;,\n",
       "                                   transformers=[(&#x27;oneHotEncoder&#x27;,\n",
       "                                                  OneHotEncoder(drop=&#x27;first&#x27;,\n",
       "                                                                handle_unknown=&#x27;ignore&#x27;,\n",
       "                                                                sparse_output=False),\n",
       "                                                  [0, 1])])),\n",
       "                (&#x27;c2&#x27;,\n",
       "                 ColumnTransformer(transformers=[(&#x27;minMaxScaler&#x27;,\n",
       "                                                  MinMaxScaler(),\n",
       "                                                  slice(0, None, None))])),\n",
       "                (&#x27;c3&#x27;, LinearRegression())])</pre><b>In a Jupyter environment, please rerun this cell to show the HTML representation or trust the notebook. <br />On GitHub, the HTML representation is unable to render, please try loading this page with nbviewer.org.</b></div><div class=\"sk-container\" hidden><div class=\"sk-item sk-dashed-wrapped\"><div class=\"sk-label-container\"><div class=\"sk-label sk-toggleable\"><input class=\"sk-toggleable__control sk-hidden--visually\" id=\"sk-estimator-id-59\" type=\"checkbox\" ><label for=\"sk-estimator-id-59\" class=\"sk-toggleable__label sk-toggleable__label-arrow\">Pipeline</label><div class=\"sk-toggleable__content\"><pre>Pipeline(steps=[(&#x27;c1&#x27;,\n",
       "                 ColumnTransformer(remainder=&#x27;passthrough&#x27;,\n",
       "                                   transformers=[(&#x27;oneHotEncoder&#x27;,\n",
       "                                                  OneHotEncoder(drop=&#x27;first&#x27;,\n",
       "                                                                handle_unknown=&#x27;ignore&#x27;,\n",
       "                                                                sparse_output=False),\n",
       "                                                  [0, 1])])),\n",
       "                (&#x27;c2&#x27;,\n",
       "                 ColumnTransformer(transformers=[(&#x27;minMaxScaler&#x27;,\n",
       "                                                  MinMaxScaler(),\n",
       "                                                  slice(0, None, None))])),\n",
       "                (&#x27;c3&#x27;, LinearRegression())])</pre></div></div></div><div class=\"sk-serial\"><div class=\"sk-item sk-dashed-wrapped\"><div class=\"sk-label-container\"><div class=\"sk-label sk-toggleable\"><input class=\"sk-toggleable__control sk-hidden--visually\" id=\"sk-estimator-id-60\" type=\"checkbox\" ><label for=\"sk-estimator-id-60\" class=\"sk-toggleable__label sk-toggleable__label-arrow\">c1: ColumnTransformer</label><div class=\"sk-toggleable__content\"><pre>ColumnTransformer(remainder=&#x27;passthrough&#x27;,\n",
       "                  transformers=[(&#x27;oneHotEncoder&#x27;,\n",
       "                                 OneHotEncoder(drop=&#x27;first&#x27;,\n",
       "                                               handle_unknown=&#x27;ignore&#x27;,\n",
       "                                               sparse_output=False),\n",
       "                                 [0, 1])])</pre></div></div></div><div class=\"sk-parallel\"><div class=\"sk-parallel-item\"><div class=\"sk-item\"><div class=\"sk-label-container\"><div class=\"sk-label sk-toggleable\"><input class=\"sk-toggleable__control sk-hidden--visually\" id=\"sk-estimator-id-61\" type=\"checkbox\" ><label for=\"sk-estimator-id-61\" class=\"sk-toggleable__label sk-toggleable__label-arrow\">oneHotEncoder</label><div class=\"sk-toggleable__content\"><pre>[0, 1]</pre></div></div></div><div class=\"sk-serial\"><div class=\"sk-item\"><div class=\"sk-estimator sk-toggleable\"><input class=\"sk-toggleable__control sk-hidden--visually\" id=\"sk-estimator-id-62\" type=\"checkbox\" ><label for=\"sk-estimator-id-62\" class=\"sk-toggleable__label sk-toggleable__label-arrow\">OneHotEncoder</label><div class=\"sk-toggleable__content\"><pre>OneHotEncoder(drop=&#x27;first&#x27;, handle_unknown=&#x27;ignore&#x27;, sparse_output=False)</pre></div></div></div></div></div></div><div class=\"sk-parallel-item\"><div class=\"sk-item\"><div class=\"sk-label-container\"><div class=\"sk-label sk-toggleable\"><input class=\"sk-toggleable__control sk-hidden--visually\" id=\"sk-estimator-id-63\" type=\"checkbox\" ><label for=\"sk-estimator-id-63\" class=\"sk-toggleable__label sk-toggleable__label-arrow\">remainder</label><div class=\"sk-toggleable__content\"><pre>[&#x27;size&#x27;, &#x27;total_sqft&#x27;, &#x27;bath&#x27;, &#x27;balcony&#x27;]</pre></div></div></div><div class=\"sk-serial\"><div class=\"sk-item\"><div class=\"sk-estimator sk-toggleable\"><input class=\"sk-toggleable__control sk-hidden--visually\" id=\"sk-estimator-id-64\" type=\"checkbox\" ><label for=\"sk-estimator-id-64\" class=\"sk-toggleable__label sk-toggleable__label-arrow\">passthrough</label><div class=\"sk-toggleable__content\"><pre>passthrough</pre></div></div></div></div></div></div></div></div><div class=\"sk-item sk-dashed-wrapped\"><div class=\"sk-label-container\"><div class=\"sk-label sk-toggleable\"><input class=\"sk-toggleable__control sk-hidden--visually\" id=\"sk-estimator-id-65\" type=\"checkbox\" ><label for=\"sk-estimator-id-65\" class=\"sk-toggleable__label sk-toggleable__label-arrow\">c2: ColumnTransformer</label><div class=\"sk-toggleable__content\"><pre>ColumnTransformer(transformers=[(&#x27;minMaxScaler&#x27;, MinMaxScaler(),\n",
       "                                 slice(0, None, None))])</pre></div></div></div><div class=\"sk-parallel\"><div class=\"sk-parallel-item\"><div class=\"sk-item\"><div class=\"sk-label-container\"><div class=\"sk-label sk-toggleable\"><input class=\"sk-toggleable__control sk-hidden--visually\" id=\"sk-estimator-id-66\" type=\"checkbox\" ><label for=\"sk-estimator-id-66\" class=\"sk-toggleable__label sk-toggleable__label-arrow\">minMaxScaler</label><div class=\"sk-toggleable__content\"><pre>slice(0, None, None)</pre></div></div></div><div class=\"sk-serial\"><div class=\"sk-item\"><div class=\"sk-estimator sk-toggleable\"><input class=\"sk-toggleable__control sk-hidden--visually\" id=\"sk-estimator-id-67\" type=\"checkbox\" ><label for=\"sk-estimator-id-67\" class=\"sk-toggleable__label sk-toggleable__label-arrow\">MinMaxScaler</label><div class=\"sk-toggleable__content\"><pre>MinMaxScaler()</pre></div></div></div></div></div></div></div></div><div class=\"sk-item\"><div class=\"sk-estimator sk-toggleable\"><input class=\"sk-toggleable__control sk-hidden--visually\" id=\"sk-estimator-id-68\" type=\"checkbox\" ><label for=\"sk-estimator-id-68\" class=\"sk-toggleable__label sk-toggleable__label-arrow\">LinearRegression</label><div class=\"sk-toggleable__content\"><pre>LinearRegression()</pre></div></div></div></div></div></div></div>"
      ],
      "text/plain": [
       "Pipeline(steps=[('c1',\n",
       "                 ColumnTransformer(remainder='passthrough',\n",
       "                                   transformers=[('oneHotEncoder',\n",
       "                                                  OneHotEncoder(drop='first',\n",
       "                                                                handle_unknown='ignore',\n",
       "                                                                sparse_output=False),\n",
       "                                                  [0, 1])])),\n",
       "                ('c2',\n",
       "                 ColumnTransformer(transformers=[('minMaxScaler',\n",
       "                                                  MinMaxScaler(),\n",
       "                                                  slice(0, None, None))])),\n",
       "                ('c3', LinearRegression())])"
      ]
     },
     "execution_count": 304,
     "metadata": {},
     "output_type": "execute_result"
    }
   ],
   "source": [
    "pipe.fit(x_train,y_train)"
   ]
  },
  {
   "cell_type": "code",
   "execution_count": 305,
   "id": "cbfbe73b",
   "metadata": {},
   "outputs": [],
   "source": [
    "pred = pipe.predict(x_test)"
   ]
  },
  {
   "cell_type": "code",
   "execution_count": 306,
   "id": "9fca2df2",
   "metadata": {},
   "outputs": [
    {
     "data": {
      "text/plain": [
       "array([ 68.25158487, 112.04003462,  75.35108601, ...,  73.97009822,\n",
       "        91.00439996, 135.00737609])"
      ]
     },
     "execution_count": 306,
     "metadata": {},
     "output_type": "execute_result"
    }
   ],
   "source": [
    "pred"
   ]
  },
  {
   "cell_type": "code",
   "execution_count": 307,
   "id": "69fb1d9b",
   "metadata": {},
   "outputs": [
    {
     "data": {
      "text/plain": [
       "0.828713726906598"
      ]
     },
     "execution_count": 307,
     "metadata": {},
     "output_type": "execute_result"
    }
   ],
   "source": [
    "pipe.score(x_test, y_test)"
   ]
  },
  {
   "cell_type": "markdown",
   "id": "67615428",
   "metadata": {},
   "source": [
    "## Model: Random Forest Regressor"
   ]
  },
  {
   "cell_type": "code",
   "execution_count": 308,
   "id": "8aa4d6d9",
   "metadata": {},
   "outputs": [
    {
     "data": {
      "text/plain": [
       "0.8445214243561238"
      ]
     },
     "execution_count": 308,
     "metadata": {},
     "output_type": "execute_result"
    }
   ],
   "source": [
    "rf = RandomForestRegressor()\n",
    "\n",
    "pipe = Pipeline([\n",
    "    (\"c1\", c1),\n",
    "    (\"c2\", c2),\n",
    "    (\"c3\", rf)\n",
    "])\n",
    "\n",
    "pipe.fit(x_train,  y_train)\n",
    "pipe.score(x_test, y_test)"
   ]
  },
  {
   "cell_type": "markdown",
   "id": "b6eca827",
   "metadata": {},
   "source": [
    "### Random Forest Regressor performs well. So predict unseen datapoints from these model"
   ]
  },
  {
   "cell_type": "code",
   "execution_count": 342,
   "id": "8e78fa16",
   "metadata": {},
   "outputs": [],
   "source": [
    "d = pd.DataFrame({\"area_type\":[\"Super built-up Area\"], \"location\":[\"Sarjapur Road\"], \"size\":[2], \"total_sqft\":[965], \"bath\":[1], \"balcony\":[1]})"
   ]
  },
  {
   "cell_type": "code",
   "execution_count": 343,
   "id": "d2356894",
   "metadata": {},
   "outputs": [
    {
     "name": "stderr",
     "output_type": "stream",
     "text": [
      "C:\\Users\\DELL PC\\AppData\\Roaming\\Python\\Python311\\site-packages\\sklearn\\preprocessing\\_encoders.py:227: UserWarning: Found unknown categories in columns [0, 1] during transform. These unknown categories will be encoded as all zeros\n",
      "  warnings.warn(\n"
     ]
    },
    {
     "data": {
      "text/plain": [
       "array([48.82])"
      ]
     },
     "execution_count": 343,
     "metadata": {},
     "output_type": "execute_result"
    }
   ],
   "source": [
    "pipe.predict(d)"
   ]
  },
  {
   "cell_type": "code",
   "execution_count": 360,
   "id": "b453be99",
   "metadata": {},
   "outputs": [
    {
     "data": {
      "text/html": [
       "<div>\n",
       "<style scoped>\n",
       "    .dataframe tbody tr th:only-of-type {\n",
       "        vertical-align: middle;\n",
       "    }\n",
       "\n",
       "    .dataframe tbody tr th {\n",
       "        vertical-align: top;\n",
       "    }\n",
       "\n",
       "    .dataframe thead th {\n",
       "        text-align: right;\n",
       "    }\n",
       "</style>\n",
       "<table border=\"1\" class=\"dataframe\">\n",
       "  <thead>\n",
       "    <tr style=\"text-align: right;\">\n",
       "      <th></th>\n",
       "      <th>area_type</th>\n",
       "      <th>location</th>\n",
       "      <th>size</th>\n",
       "      <th>total_sqft</th>\n",
       "      <th>bath</th>\n",
       "      <th>balcony</th>\n",
       "      <th>price</th>\n",
       "    </tr>\n",
       "  </thead>\n",
       "  <tbody>\n",
       "    <tr>\n",
       "      <th>9947</th>\n",
       "      <td>Built-up  Area</td>\n",
       "      <td>other</td>\n",
       "      <td>2</td>\n",
       "      <td>1300</td>\n",
       "      <td>2</td>\n",
       "      <td>3</td>\n",
       "      <td>95</td>\n",
       "    </tr>\n",
       "    <tr>\n",
       "      <th>3036</th>\n",
       "      <td>Super built-up  Area</td>\n",
       "      <td>Kanakpura Road</td>\n",
       "      <td>2</td>\n",
       "      <td>1290</td>\n",
       "      <td>2</td>\n",
       "      <td>3</td>\n",
       "      <td>74</td>\n",
       "    </tr>\n",
       "    <tr>\n",
       "      <th>3548</th>\n",
       "      <td>Super built-up  Area</td>\n",
       "      <td>Kundalahalli</td>\n",
       "      <td>3</td>\n",
       "      <td>1724</td>\n",
       "      <td>3</td>\n",
       "      <td>3</td>\n",
       "      <td>140</td>\n",
       "    </tr>\n",
       "    <tr>\n",
       "      <th>3040</th>\n",
       "      <td>Super built-up  Area</td>\n",
       "      <td>Kanakpura Road</td>\n",
       "      <td>3</td>\n",
       "      <td>1542</td>\n",
       "      <td>2</td>\n",
       "      <td>3</td>\n",
       "      <td>85</td>\n",
       "    </tr>\n",
       "    <tr>\n",
       "      <th>8449</th>\n",
       "      <td>Built-up  Area</td>\n",
       "      <td>other</td>\n",
       "      <td>2</td>\n",
       "      <td>1158</td>\n",
       "      <td>2</td>\n",
       "      <td>3</td>\n",
       "      <td>75</td>\n",
       "    </tr>\n",
       "    <tr>\n",
       "      <th>...</th>\n",
       "      <td>...</td>\n",
       "      <td>...</td>\n",
       "      <td>...</td>\n",
       "      <td>...</td>\n",
       "      <td>...</td>\n",
       "      <td>...</td>\n",
       "      <td>...</td>\n",
       "    </tr>\n",
       "    <tr>\n",
       "      <th>8377</th>\n",
       "      <td>Plot  Area</td>\n",
       "      <td>other</td>\n",
       "      <td>4</td>\n",
       "      <td>1355</td>\n",
       "      <td>3</td>\n",
       "      <td>0</td>\n",
       "      <td>135</td>\n",
       "    </tr>\n",
       "    <tr>\n",
       "      <th>6294</th>\n",
       "      <td>Super built-up  Area</td>\n",
       "      <td>other</td>\n",
       "      <td>3</td>\n",
       "      <td>1200</td>\n",
       "      <td>3</td>\n",
       "      <td>0</td>\n",
       "      <td>90</td>\n",
       "    </tr>\n",
       "    <tr>\n",
       "      <th>7212</th>\n",
       "      <td>Plot  Area</td>\n",
       "      <td>other</td>\n",
       "      <td>2</td>\n",
       "      <td>1200</td>\n",
       "      <td>2</td>\n",
       "      <td>0</td>\n",
       "      <td>130</td>\n",
       "    </tr>\n",
       "    <tr>\n",
       "      <th>7214</th>\n",
       "      <td>Plot  Area</td>\n",
       "      <td>other</td>\n",
       "      <td>1</td>\n",
       "      <td>800</td>\n",
       "      <td>1</td>\n",
       "      <td>0</td>\n",
       "      <td>52</td>\n",
       "    </tr>\n",
       "    <tr>\n",
       "      <th>2822</th>\n",
       "      <td>Plot  Area</td>\n",
       "      <td>KR Puram</td>\n",
       "      <td>2</td>\n",
       "      <td>1200</td>\n",
       "      <td>2</td>\n",
       "      <td>0</td>\n",
       "      <td>71</td>\n",
       "    </tr>\n",
       "  </tbody>\n",
       "</table>\n",
       "<p>6260 rows × 7 columns</p>\n",
       "</div>"
      ],
      "text/plain": [
       "                 area_type        location  size  total_sqft  bath  balcony  \\\n",
       "9947        Built-up  Area           other     2        1300     2        3   \n",
       "3036  Super built-up  Area  Kanakpura Road     2        1290     2        3   \n",
       "3548  Super built-up  Area    Kundalahalli     3        1724     3        3   \n",
       "3040  Super built-up  Area  Kanakpura Road     3        1542     2        3   \n",
       "8449        Built-up  Area           other     2        1158     2        3   \n",
       "...                    ...             ...   ...         ...   ...      ...   \n",
       "8377            Plot  Area           other     4        1355     3        0   \n",
       "6294  Super built-up  Area           other     3        1200     3        0   \n",
       "7212            Plot  Area           other     2        1200     2        0   \n",
       "7214            Plot  Area           other     1         800     1        0   \n",
       "2822            Plot  Area        KR Puram     2        1200     2        0   \n",
       "\n",
       "      price  \n",
       "9947     95  \n",
       "3036     74  \n",
       "3548    140  \n",
       "3040     85  \n",
       "8449     75  \n",
       "...     ...  \n",
       "8377    135  \n",
       "6294     90  \n",
       "7212    130  \n",
       "7214     52  \n",
       "2822     71  \n",
       "\n",
       "[6260 rows x 7 columns]"
      ]
     },
     "execution_count": 360,
     "metadata": {},
     "output_type": "execute_result"
    }
   ],
   "source": [
    "df.sort_values(by=\"balcony\",ascending=False)"
   ]
  },
  {
   "cell_type": "code",
   "execution_count": 349,
   "id": "eef92f8f",
   "metadata": {},
   "outputs": [],
   "source": [
    "import pickle\n",
    "\n",
    "pickle.dump(pipe, open(\"pipeline.pkl\",\"wb\"))\n",
    "pickle.dump(df, open(\"dataset.pkl\",\"wb\"))"
   ]
  },
  {
   "cell_type": "markdown",
   "id": "95fd9538",
   "metadata": {},
   "source": [
    "## Model: Decision Tree Regressor"
   ]
  },
  {
   "cell_type": "code",
   "execution_count": 272,
   "id": "0f1a712f",
   "metadata": {},
   "outputs": [
    {
     "data": {
      "text/plain": [
       "0.7190908885292965"
      ]
     },
     "execution_count": 272,
     "metadata": {},
     "output_type": "execute_result"
    }
   ],
   "source": [
    "dt = DecisionTreeRegressor()\n",
    "\n",
    "pipe = Pipeline([\n",
    "    (\"c1\", c1),\n",
    "    (\"c2\", c2),\n",
    "    (\"c3\", dt)\n",
    "])\n",
    "\n",
    "pipe.fit(x_train,  y_train)\n",
    "pipe.score(x_test, y_test)"
   ]
  },
  {
   "cell_type": "code",
   "execution_count": null,
   "id": "98dbfa27",
   "metadata": {},
   "outputs": [],
   "source": []
  },
  {
   "cell_type": "markdown",
   "id": "5c5ebe24",
   "metadata": {},
   "source": [
    "## Model: Support Vector Regressor"
   ]
  },
  {
   "cell_type": "code",
   "execution_count": 221,
   "id": "47ee14dc",
   "metadata": {},
   "outputs": [
    {
     "data": {
      "text/plain": [
       "0.7958491754215635"
      ]
     },
     "execution_count": 221,
     "metadata": {},
     "output_type": "execute_result"
    }
   ],
   "source": [
    "svr = SVR(C=200)\n",
    "\n",
    "pipe = Pipeline([\n",
    "    (\"c1\", c1),\n",
    "    (\"c2\", c2),\n",
    "    (\"c3\", svr)\n",
    "])\n",
    "\n",
    "pipe.fit(x_train,  y_train)\n",
    "pipe.score(x_test, y_test)"
   ]
  },
  {
   "cell_type": "markdown",
   "id": "3fee073b",
   "metadata": {},
   "source": [
    "## Model: KNeighbors Regressor"
   ]
  },
  {
   "cell_type": "code",
   "execution_count": 230,
   "id": "4666bead",
   "metadata": {},
   "outputs": [
    {
     "data": {
      "text/plain": [
       "0.5450881242765471"
      ]
     },
     "execution_count": 230,
     "metadata": {},
     "output_type": "execute_result"
    }
   ],
   "source": [
    "knn = KNeighborsRegressor(n_neighbors=50)\n",
    "\n",
    "pipe = Pipeline([\n",
    "    (\"c1\", c1),\n",
    "    (\"c2\", c2),\n",
    "    (\"c3\", knn)\n",
    "])\n",
    "\n",
    "pipe.fit(x_train,  y_train)\n",
    "pipe.score(x_test, y_test)"
   ]
  },
  {
   "cell_type": "markdown",
   "id": "12e5f596",
   "metadata": {},
   "source": [
    "# Trying Additional Thing: Outlier Removal using IQR method "
   ]
  },
  {
   "cell_type": "code",
   "execution_count": 258,
   "id": "5943aeff",
   "metadata": {},
   "outputs": [],
   "source": [
    "df_n = df9.copy()"
   ]
  },
  {
   "cell_type": "code",
   "execution_count": 264,
   "id": "be298af4",
   "metadata": {},
   "outputs": [
    {
     "data": {
      "text/plain": [
       "(6260, 7)"
      ]
     },
     "execution_count": 264,
     "metadata": {},
     "output_type": "execute_result"
    }
   ],
   "source": [
    "df_n.shape"
   ]
  },
  {
   "cell_type": "code",
   "execution_count": 259,
   "id": "aadb7efe",
   "metadata": {},
   "outputs": [],
   "source": [
    "def outlier_removal(df, col):\n",
    "    q1 = df[col].quantile(0.25)\n",
    "    q3 = df[col].quantile(0.75)\n",
    "    iqr = q3-q1\n",
    "    lower_limit = q1-1.5*iqr\n",
    "    upper_limit = q3+1.5*iqr\n",
    "    new_df = df[(df[col]>lower_limit) & (df[col]<upper_limit)]\n",
    "    return new_df"
   ]
  },
  {
   "cell_type": "code",
   "execution_count": 260,
   "id": "0e78af13",
   "metadata": {},
   "outputs": [
    {
     "data": {
      "text/plain": [
       "(6160, 7)"
      ]
     },
     "execution_count": 260,
     "metadata": {},
     "output_type": "execute_result"
    }
   ],
   "source": [
    "do_1 = outlier_removal(df_n, \"size\")\n",
    "do_1.shape"
   ]
  },
  {
   "cell_type": "code",
   "execution_count": 261,
   "id": "fa52f097",
   "metadata": {},
   "outputs": [
    {
     "data": {
      "text/plain": [
       "(6160, 7)"
      ]
     },
     "execution_count": 261,
     "metadata": {},
     "output_type": "execute_result"
    }
   ],
   "source": [
    "do_2 = outlier_removal(do_1, \"bath\")\n",
    "do_2.shape"
   ]
  },
  {
   "cell_type": "code",
   "execution_count": 262,
   "id": "3fabd798",
   "metadata": {},
   "outputs": [
    {
     "data": {
      "text/plain": [
       "(5734, 7)"
      ]
     },
     "execution_count": 262,
     "metadata": {},
     "output_type": "execute_result"
    }
   ],
   "source": [
    "do_3 = outlier_removal(do_2, \"price\")\n",
    "do_3.shape"
   ]
  },
  {
   "cell_type": "code",
   "execution_count": 263,
   "id": "233182e7",
   "metadata": {},
   "outputs": [
    {
     "data": {
      "text/plain": [
       "(5734, 7)"
      ]
     },
     "execution_count": 263,
     "metadata": {},
     "output_type": "execute_result"
    }
   ],
   "source": [
    "do_3.shape"
   ]
  },
  {
   "cell_type": "code",
   "execution_count": 267,
   "id": "b1558cf8",
   "metadata": {},
   "outputs": [
    {
     "data": {
      "text/html": [
       "<div>\n",
       "<style scoped>\n",
       "    .dataframe tbody tr th:only-of-type {\n",
       "        vertical-align: middle;\n",
       "    }\n",
       "\n",
       "    .dataframe tbody tr th {\n",
       "        vertical-align: top;\n",
       "    }\n",
       "\n",
       "    .dataframe thead th {\n",
       "        text-align: right;\n",
       "    }\n",
       "</style>\n",
       "<table border=\"1\" class=\"dataframe\">\n",
       "  <thead>\n",
       "    <tr style=\"text-align: right;\">\n",
       "      <th></th>\n",
       "      <th>size</th>\n",
       "      <th>total_sqft</th>\n",
       "      <th>bath</th>\n",
       "      <th>balcony</th>\n",
       "      <th>price</th>\n",
       "    </tr>\n",
       "  </thead>\n",
       "  <tbody>\n",
       "    <tr>\n",
       "      <th>size</th>\n",
       "      <td>1.000000</td>\n",
       "      <td>0.726617</td>\n",
       "      <td>0.866768</td>\n",
       "      <td>0.319632</td>\n",
       "      <td>0.676673</td>\n",
       "    </tr>\n",
       "    <tr>\n",
       "      <th>total_sqft</th>\n",
       "      <td>0.726617</td>\n",
       "      <td>1.000000</td>\n",
       "      <td>0.717036</td>\n",
       "      <td>0.345702</td>\n",
       "      <td>0.790732</td>\n",
       "    </tr>\n",
       "    <tr>\n",
       "      <th>bath</th>\n",
       "      <td>0.866768</td>\n",
       "      <td>0.717036</td>\n",
       "      <td>1.000000</td>\n",
       "      <td>0.336854</td>\n",
       "      <td>0.667204</td>\n",
       "    </tr>\n",
       "    <tr>\n",
       "      <th>balcony</th>\n",
       "      <td>0.319632</td>\n",
       "      <td>0.345702</td>\n",
       "      <td>0.336854</td>\n",
       "      <td>1.000000</td>\n",
       "      <td>0.262432</td>\n",
       "    </tr>\n",
       "    <tr>\n",
       "      <th>price</th>\n",
       "      <td>0.676673</td>\n",
       "      <td>0.790732</td>\n",
       "      <td>0.667204</td>\n",
       "      <td>0.262432</td>\n",
       "      <td>1.000000</td>\n",
       "    </tr>\n",
       "  </tbody>\n",
       "</table>\n",
       "</div>"
      ],
      "text/plain": [
       "                size  total_sqft      bath   balcony     price\n",
       "size        1.000000    0.726617  0.866768  0.319632  0.676673\n",
       "total_sqft  0.726617    1.000000  0.717036  0.345702  0.790732\n",
       "bath        0.866768    0.717036  1.000000  0.336854  0.667204\n",
       "balcony     0.319632    0.345702  0.336854  1.000000  0.262432\n",
       "price       0.676673    0.790732  0.667204  0.262432  1.000000"
      ]
     },
     "execution_count": 267,
     "metadata": {},
     "output_type": "execute_result"
    }
   ],
   "source": [
    "do_3.select_dtypes([\"int\",\"float\"]).corr()"
   ]
  },
  {
   "cell_type": "code",
   "execution_count": 268,
   "id": "a9061035",
   "metadata": {},
   "outputs": [
    {
     "data": {
      "text/html": [
       "<div>\n",
       "<style scoped>\n",
       "    .dataframe tbody tr th:only-of-type {\n",
       "        vertical-align: middle;\n",
       "    }\n",
       "\n",
       "    .dataframe tbody tr th {\n",
       "        vertical-align: top;\n",
       "    }\n",
       "\n",
       "    .dataframe thead th {\n",
       "        text-align: right;\n",
       "    }\n",
       "</style>\n",
       "<table border=\"1\" class=\"dataframe\">\n",
       "  <thead>\n",
       "    <tr style=\"text-align: right;\">\n",
       "      <th></th>\n",
       "      <th>size</th>\n",
       "      <th>total_sqft</th>\n",
       "      <th>bath</th>\n",
       "      <th>balcony</th>\n",
       "      <th>price</th>\n",
       "    </tr>\n",
       "  </thead>\n",
       "  <tbody>\n",
       "    <tr>\n",
       "      <th>size</th>\n",
       "      <td>1.000000</td>\n",
       "      <td>0.645902</td>\n",
       "      <td>0.911251</td>\n",
       "      <td>0.296061</td>\n",
       "      <td>0.590355</td>\n",
       "    </tr>\n",
       "    <tr>\n",
       "      <th>total_sqft</th>\n",
       "      <td>0.645902</td>\n",
       "      <td>1.000000</td>\n",
       "      <td>0.645882</td>\n",
       "      <td>0.261834</td>\n",
       "      <td>0.865571</td>\n",
       "    </tr>\n",
       "    <tr>\n",
       "      <th>bath</th>\n",
       "      <td>0.911251</td>\n",
       "      <td>0.645882</td>\n",
       "      <td>1.000000</td>\n",
       "      <td>0.311964</td>\n",
       "      <td>0.594000</td>\n",
       "    </tr>\n",
       "    <tr>\n",
       "      <th>balcony</th>\n",
       "      <td>0.296061</td>\n",
       "      <td>0.261834</td>\n",
       "      <td>0.311964</td>\n",
       "      <td>1.000000</td>\n",
       "      <td>0.224345</td>\n",
       "    </tr>\n",
       "    <tr>\n",
       "      <th>price</th>\n",
       "      <td>0.590355</td>\n",
       "      <td>0.865571</td>\n",
       "      <td>0.594000</td>\n",
       "      <td>0.224345</td>\n",
       "      <td>1.000000</td>\n",
       "    </tr>\n",
       "  </tbody>\n",
       "</table>\n",
       "</div>"
      ],
      "text/plain": [
       "                size  total_sqft      bath   balcony     price\n",
       "size        1.000000    0.645902  0.911251  0.296061  0.590355\n",
       "total_sqft  0.645902    1.000000  0.645882  0.261834  0.865571\n",
       "bath        0.911251    0.645882  1.000000  0.311964  0.594000\n",
       "balcony     0.296061    0.261834  0.311964  1.000000  0.224345\n",
       "price       0.590355    0.865571  0.594000  0.224345  1.000000"
      ]
     },
     "execution_count": 268,
     "metadata": {},
     "output_type": "execute_result"
    }
   ],
   "source": [
    "df.select_dtypes([\"int\",\"float\"]).corr()"
   ]
  },
  {
   "cell_type": "code",
   "execution_count": 265,
   "id": "18065520",
   "metadata": {},
   "outputs": [],
   "source": [
    "x = do_3.drop(\"price\", axis=1)\n",
    "y = do_3[\"price\"]\n",
    "\n",
    "x_train, x_test, y_train, y_test = train_test_split(x, y, test_size=0.20, random_state=10)"
   ]
  },
  {
   "cell_type": "code",
   "execution_count": 266,
   "id": "74951808",
   "metadata": {},
   "outputs": [
    {
     "data": {
      "text/plain": [
       "0.8070995415218951"
      ]
     },
     "execution_count": 266,
     "metadata": {},
     "output_type": "execute_result"
    }
   ],
   "source": [
    "lr = RandomForestRegressor()\n",
    "\n",
    "pipe = Pipeline([\n",
    "    (\"c1\", c1),\n",
    "    (\"c2\", c2),\n",
    "    (\"c3\", lr)\n",
    "])\n",
    "\n",
    "pipe.fit(x_train,  y_train)\n",
    "pipe.score(x_test, y_test)"
   ]
  },
  {
   "cell_type": "code",
   "execution_count": 269,
   "id": "d00eaec7",
   "metadata": {},
   "outputs": [
    {
     "data": {
      "text/plain": [
       "Text(0.5, 1.0, 'Price Boxplot')"
      ]
     },
     "execution_count": 269,
     "metadata": {},
     "output_type": "execute_result"
    },
    {
     "data": {
      "image/png": "[encoded data removed]",
      "text/plain": [
       "<Figure size 1200x1600 with 4 Axes>"
      ]
     },
     "metadata": {},
     "output_type": "display_data"
    }
   ],
   "source": [
    "# Check distribution of data\n",
    "fig, axes = plt.subplots(ncols=2, nrows=2, figsize=(12,16))\n",
    "\n",
    "sns.boxplot(x=do_3[\"size\"], ax=axes[0,0])\n",
    "axes[0,0].set_title(\"Size Boxplot\")\n",
    "\n",
    "sns.boxplot(x=do_3[\"bath\"], ax=axes[0,1])\n",
    "axes[0,1].set_title(\"Bath Boxplot\")\n",
    "\n",
    "sns.boxplot(x=do_3[\"balcony\"], ax=axes[1,0])\n",
    "axes[1,0].set_title(\"Balcony Boxplot\")\n",
    "\n",
    "sns.boxplot(x=do_3[\"price\"], ax=axes[1,1])\n",
    "axes[1,1].set_title(\"Price Boxplot\")"
   ]
  },
  {
   "cell_type": "markdown",
   "id": "25faa342",
   "metadata": {},
   "source": [
    "### This method removes outliers but accuracy of models was not better after applying it. So I skip this additional part."
   ]
  }
 ],
 "metadata": {
  "kernelspec": {
   "display_name": "Python 3 (ipykernel)",
   "language": "python",
   "name": "python3"
  },
  "language_info": {
   "codemirror_mode": {
    "name": "ipython",
    "version": 3
   },
   "file_extension": ".py",
   "mimetype": "text/x-python",
   "name": "python",
   "nbconvert_exporter": "python",
   "pygments_lexer": "ipython3",
   "version": "3.11.3"
  }
 },
 "nbformat": 4,
 "nbformat_minor": 5
}
